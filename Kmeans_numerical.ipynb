{
 "cells": [
  {
   "cell_type": "code",
   "execution_count": 1,
   "metadata": {},
   "outputs": [],
   "source": [
    "import numpy as np\n",
    "import pandas as pd\n",
    "import matplotlib.pyplot as plt\n",
    "import util\n",
    "import mylearn\n",
    "import time\n",
    "import seaborn as sns\n",
    "\n",
    "np.random.seed(1)\n",
    "df = pd.read_csv('train.csv')      # import data"
   ]
  },
  {
   "cell_type": "code",
   "execution_count": 2,
   "metadata": {},
   "outputs": [],
   "source": [
    "# Remove column ID\n",
    "df = df.drop('Id', axis = 1)\n",
    "\n",
    "# drop the highly correlated feautures\n",
    "df = df.drop(['1stFlrSF', 'GarageArea', 'GarageYrBlt', 'TotRmsAbvGrd'], axis = 1)\n",
    "\n",
    "cats = ['LotFrontage', 'LotArea', 'OverallQual', 'OverallCond', 'YearBuilt', 'YearRemodAdd', 'MasVnrArea', 'BsmtUnfSF',\n",
    "       'TotalBsmtSF', '2ndFlrSF', 'LowQualFinSF', 'GrLivArea', 'BsmtFullBath', 'BsmtHalfBath', 'FullBath',\n",
    "       'HalfBath', 'BedroomAbvGr', 'KitchenAbvGr', 'Fireplaces', 'GarageCars',\n",
    "       'WoodDeckSF', 'OpenPorchSF', 'EnclosedPorch','3SsnPorch', 'ScreenPorch', 'PoolArea', 'MiscVal', 'MoSold', 'YrSold', 'SalePrice']\n",
    "\n",
    "df = df[cats]\n",
    "\n",
    "\n",
    "# replace null values with 0\n",
    "fillvals = {'LotFrontage': 0, 'MasVnrArea': 0 }  #creates fill values\n",
    "df.fillna(value = fillvals, inplace = True)\n",
    "\n",
    "# combine house age and year built\n",
    "df['HouseAge']=2010 - df['YearBuilt']\n",
    "df.drop('YearBuilt', axis =1, inplace = True)\n",
    "\n",
    "# combine remodeled age and remodeled year\n",
    "\n",
    "df['RemodAge']=2010 - df['YearRemodAdd']\n",
    "df.drop('YearRemodAdd', axis =1, inplace = True)\n",
    "\n",
    "# combine year sold and months sold\n",
    "df['MonthsSold']= 12*(2010 - df['YrSold'])+(12-df['MoSold'])\n",
    "df.drop(['YrSold', 'MoSold'], axis = 1, inplace = True)"
   ]
  },
  {
   "cell_type": "code",
   "execution_count": 3,
   "metadata": {},
   "outputs": [],
   "source": [
    "# classification of sales prices\n",
    "\n",
    "def create_classes(dat, col = 'SalePrice'):#creates a definition that creates a class definition\n",
    "    val = dat[col]\n",
    "    if val < 100000: return 0\n",
    "    elif val <150000: return 1\n",
    "    elif val <200000: return 2\n",
    "    elif val <250000: return 3\n",
    "    else: return 4\n",
    "    \n",
    "df.apply(create_classes, axis = 1)\n",
    "df['SaleClass']= df.apply(create_classes, axis = 1)"
   ]
  },
  {
   "cell_type": "code",
   "execution_count": null,
   "metadata": {},
   "outputs": [
    {
     "name": "stderr",
     "output_type": "stream",
     "text": [
      "C:\\Users\\azara\\Anaconda3\\Ano\\lib\\site-packages\\numpy\\core\\fromnumeric.py:3334: RuntimeWarning: Mean of empty slice.\n",
      "  return _methods._mean(a, axis=axis, dtype=dtype,\n",
      "C:\\Users\\azara\\Anaconda3\\Ano\\lib\\site-packages\\numpy\\core\\_methods.py:153: RuntimeWarning: invalid value encountered in true_divide\n",
      "  ret = um.true_divide(\n"
     ]
    }
   ],
   "source": [
    "from sklearn import preprocessing\n",
    "\n",
    "Housetrain = np.array(df)\n",
    "xtrain = Housetrain[:, :-1]\n",
    "ytrain = Housetrain[:, -1]\n",
    "\n",
    "# Normalize the data\n",
    "xtrain_normalized = util.normalize(xtrain, Te=None)\n",
    "\n",
    "# perform PCA\n",
    "E = mylearn.pca(xtrain, 0.15)   #keeps 36 columns\n",
    "xtrain_np = np.dot(xtrain, E)\n",
    "\n",
    "t0 = time.time()           # start time\n",
    "y_kmean = mylearn.kmeans(xtrain_np, 5)\n",
    "t1 = time.time()           # ending time\n",
    "acc_i, acc_overall = util.accuracy_score(ytrain, y_kmean)\n",
    "print(f'Overall accuracy for Kmeans = {acc_overall};')\n",
    "print(f'Classwise accuracy for Kmeans = {acc_i};')\n",
    "print(f'The Kmeans learning process takes {t1 - t0} seconds.')"
   ]
  },
  {
   "cell_type": "code",
   "execution_count": null,
   "metadata": {},
   "outputs": [],
   "source": [
    "print('hi')"
   ]
  },
  {
   "cell_type": "code",
   "execution_count": null,
   "metadata": {},
   "outputs": [],
   "source": []
  }
 ],
 "metadata": {
  "kernelspec": {
   "display_name": "Python 3",
   "language": "python",
   "name": "python3"
  },
  "language_info": {
   "codemirror_mode": {
    "name": "ipython",
    "version": 3
   },
   "file_extension": ".py",
   "mimetype": "text/x-python",
   "name": "python",
   "nbconvert_exporter": "python",
   "pygments_lexer": "ipython3",
   "version": "3.8.3"
  }
 },
 "nbformat": 4,
 "nbformat_minor": 4
}
