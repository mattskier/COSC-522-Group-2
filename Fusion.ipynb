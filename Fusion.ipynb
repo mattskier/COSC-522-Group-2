{
 "cells": [
  {
   "cell_type": "code",
   "execution_count": 1,
   "metadata": {},
   "outputs": [],
   "source": [
    "import numpy as np\n",
    "import pandas as pd\n",
    "import matplotlib.pyplot as plt\n",
    "import util\n",
    "import mylearn\n",
    "import time\n",
    "np.random.seed(1)\n",
    "data = pd.read_csv('train.csv') #pre-downloaded housing data\n",
    "House = data.copy()"
   ]
  },
  {
   "cell_type": "code",
   "execution_count": 2,
   "metadata": {},
   "outputs": [],
   "source": [
    "def create_classes(dat, col = 'SalePrice'):#creates a definition that creates a class definition\n",
    "    val = dat[col]\n",
    "    if val < 100000: return 0\n",
    "    elif val <150000: return 1\n",
    "    elif val <200000: return 2\n",
    "    elif val <250000: return 3\n",
    "    else: return 4"
   ]
  },
  {
   "cell_type": "markdown",
   "metadata": {},
   "source": [
    "We will use our best 3 accuracy rates for Naive Bayes, which is MPP (Case 2), BPNN, and and SVM"
   ]
  },
  {
   "cell_type": "code",
   "execution_count": 3,
   "metadata": {},
   "outputs": [],
   "source": [
    "def mean_normal(df):\n",
    "    return (df-df.mean())/df.std()"
   ]
  },
  {
   "cell_type": "code",
   "execution_count": 4,
   "metadata": {},
   "outputs": [],
   "source": [
    "Housedat = pd.get_dummies(data)"
   ]
  },
  {
   "cell_type": "code",
   "execution_count": 5,
   "metadata": {},
   "outputs": [],
   "source": [
    "Housedat['SaleClass'] = Housedat.apply(create_classes, axis = 1)"
   ]
  },
  {
   "cell_type": "code",
   "execution_count": 6,
   "metadata": {},
   "outputs": [
    {
     "data": {
      "text/html": [
       "<div>\n",
       "<style scoped>\n",
       "    .dataframe tbody tr th:only-of-type {\n",
       "        vertical-align: middle;\n",
       "    }\n",
       "\n",
       "    .dataframe tbody tr th {\n",
       "        vertical-align: top;\n",
       "    }\n",
       "\n",
       "    .dataframe thead th {\n",
       "        text-align: right;\n",
       "    }\n",
       "</style>\n",
       "<table border=\"1\" class=\"dataframe\">\n",
       "  <thead>\n",
       "    <tr style=\"text-align: right;\">\n",
       "      <th></th>\n",
       "      <th>Id</th>\n",
       "      <th>MSSubClass</th>\n",
       "      <th>LotFrontage</th>\n",
       "      <th>LotArea</th>\n",
       "      <th>OverallQual</th>\n",
       "      <th>OverallCond</th>\n",
       "      <th>YearBuilt</th>\n",
       "      <th>YearRemodAdd</th>\n",
       "      <th>MasVnrArea</th>\n",
       "      <th>BsmtFinSF1</th>\n",
       "      <th>...</th>\n",
       "      <th>SaleType_New</th>\n",
       "      <th>SaleType_Oth</th>\n",
       "      <th>SaleType_WD</th>\n",
       "      <th>SaleCondition_Abnorml</th>\n",
       "      <th>SaleCondition_AdjLand</th>\n",
       "      <th>SaleCondition_Alloca</th>\n",
       "      <th>SaleCondition_Family</th>\n",
       "      <th>SaleCondition_Normal</th>\n",
       "      <th>SaleCondition_Partial</th>\n",
       "      <th>SaleClass</th>\n",
       "    </tr>\n",
       "  </thead>\n",
       "  <tbody>\n",
       "    <tr>\n",
       "      <th>0</th>\n",
       "      <td>1</td>\n",
       "      <td>60</td>\n",
       "      <td>65.0</td>\n",
       "      <td>8450</td>\n",
       "      <td>7</td>\n",
       "      <td>5</td>\n",
       "      <td>2003</td>\n",
       "      <td>2003</td>\n",
       "      <td>196.0</td>\n",
       "      <td>706</td>\n",
       "      <td>...</td>\n",
       "      <td>0</td>\n",
       "      <td>0</td>\n",
       "      <td>1</td>\n",
       "      <td>0</td>\n",
       "      <td>0</td>\n",
       "      <td>0</td>\n",
       "      <td>0</td>\n",
       "      <td>1</td>\n",
       "      <td>0</td>\n",
       "      <td>3</td>\n",
       "    </tr>\n",
       "    <tr>\n",
       "      <th>1</th>\n",
       "      <td>2</td>\n",
       "      <td>20</td>\n",
       "      <td>80.0</td>\n",
       "      <td>9600</td>\n",
       "      <td>6</td>\n",
       "      <td>8</td>\n",
       "      <td>1976</td>\n",
       "      <td>1976</td>\n",
       "      <td>0.0</td>\n",
       "      <td>978</td>\n",
       "      <td>...</td>\n",
       "      <td>0</td>\n",
       "      <td>0</td>\n",
       "      <td>1</td>\n",
       "      <td>0</td>\n",
       "      <td>0</td>\n",
       "      <td>0</td>\n",
       "      <td>0</td>\n",
       "      <td>1</td>\n",
       "      <td>0</td>\n",
       "      <td>2</td>\n",
       "    </tr>\n",
       "    <tr>\n",
       "      <th>2</th>\n",
       "      <td>3</td>\n",
       "      <td>60</td>\n",
       "      <td>68.0</td>\n",
       "      <td>11250</td>\n",
       "      <td>7</td>\n",
       "      <td>5</td>\n",
       "      <td>2001</td>\n",
       "      <td>2002</td>\n",
       "      <td>162.0</td>\n",
       "      <td>486</td>\n",
       "      <td>...</td>\n",
       "      <td>0</td>\n",
       "      <td>0</td>\n",
       "      <td>1</td>\n",
       "      <td>0</td>\n",
       "      <td>0</td>\n",
       "      <td>0</td>\n",
       "      <td>0</td>\n",
       "      <td>1</td>\n",
       "      <td>0</td>\n",
       "      <td>3</td>\n",
       "    </tr>\n",
       "    <tr>\n",
       "      <th>3</th>\n",
       "      <td>4</td>\n",
       "      <td>70</td>\n",
       "      <td>60.0</td>\n",
       "      <td>9550</td>\n",
       "      <td>7</td>\n",
       "      <td>5</td>\n",
       "      <td>1915</td>\n",
       "      <td>1970</td>\n",
       "      <td>0.0</td>\n",
       "      <td>216</td>\n",
       "      <td>...</td>\n",
       "      <td>0</td>\n",
       "      <td>0</td>\n",
       "      <td>1</td>\n",
       "      <td>1</td>\n",
       "      <td>0</td>\n",
       "      <td>0</td>\n",
       "      <td>0</td>\n",
       "      <td>0</td>\n",
       "      <td>0</td>\n",
       "      <td>1</td>\n",
       "    </tr>\n",
       "    <tr>\n",
       "      <th>4</th>\n",
       "      <td>5</td>\n",
       "      <td>60</td>\n",
       "      <td>84.0</td>\n",
       "      <td>14260</td>\n",
       "      <td>8</td>\n",
       "      <td>5</td>\n",
       "      <td>2000</td>\n",
       "      <td>2000</td>\n",
       "      <td>350.0</td>\n",
       "      <td>655</td>\n",
       "      <td>...</td>\n",
       "      <td>0</td>\n",
       "      <td>0</td>\n",
       "      <td>1</td>\n",
       "      <td>0</td>\n",
       "      <td>0</td>\n",
       "      <td>0</td>\n",
       "      <td>0</td>\n",
       "      <td>1</td>\n",
       "      <td>0</td>\n",
       "      <td>4</td>\n",
       "    </tr>\n",
       "  </tbody>\n",
       "</table>\n",
       "<p>5 rows × 291 columns</p>\n",
       "</div>"
      ],
      "text/plain": [
       "   Id  MSSubClass  LotFrontage  LotArea  OverallQual  OverallCond  YearBuilt  \\\n",
       "0   1          60         65.0     8450            7            5       2003   \n",
       "1   2          20         80.0     9600            6            8       1976   \n",
       "2   3          60         68.0    11250            7            5       2001   \n",
       "3   4          70         60.0     9550            7            5       1915   \n",
       "4   5          60         84.0    14260            8            5       2000   \n",
       "\n",
       "   YearRemodAdd  MasVnrArea  BsmtFinSF1  ...  SaleType_New  SaleType_Oth  \\\n",
       "0          2003       196.0         706  ...             0             0   \n",
       "1          1976         0.0         978  ...             0             0   \n",
       "2          2002       162.0         486  ...             0             0   \n",
       "3          1970         0.0         216  ...             0             0   \n",
       "4          2000       350.0         655  ...             0             0   \n",
       "\n",
       "   SaleType_WD  SaleCondition_Abnorml  SaleCondition_AdjLand  \\\n",
       "0            1                      0                      0   \n",
       "1            1                      0                      0   \n",
       "2            1                      0                      0   \n",
       "3            1                      1                      0   \n",
       "4            1                      0                      0   \n",
       "\n",
       "   SaleCondition_Alloca  SaleCondition_Family  SaleCondition_Normal  \\\n",
       "0                     0                     0                     1   \n",
       "1                     0                     0                     1   \n",
       "2                     0                     0                     1   \n",
       "3                     0                     0                     0   \n",
       "4                     0                     0                     1   \n",
       "\n",
       "   SaleCondition_Partial  SaleClass  \n",
       "0                      0          3  \n",
       "1                      0          2  \n",
       "2                      0          3  \n",
       "3                      0          1  \n",
       "4                      0          4  \n",
       "\n",
       "[5 rows x 291 columns]"
      ]
     },
     "execution_count": 6,
     "metadata": {},
     "output_type": "execute_result"
    }
   ],
   "source": [
    "Housedat.head()"
   ]
  },
  {
   "cell_type": "code",
   "execution_count": 7,
   "metadata": {},
   "outputs": [],
   "source": [
    "targets = Housedat['SaleClass']"
   ]
  },
  {
   "cell_type": "code",
   "execution_count": 8,
   "metadata": {},
   "outputs": [],
   "source": [
    "Housedat.drop(['Id', 'SaleClass', 'SalePrice'], axis = 1, inplace = True)"
   ]
  },
  {
   "cell_type": "code",
   "execution_count": 9,
   "metadata": {},
   "outputs": [],
   "source": [
    "Housedat['HouseAge']=2010 - Housedat['YearBuilt']\n",
    "Housedat.drop('YearBuilt', axis =1, inplace = True)\n",
    "Housedat['RemodAge']=2010 - Housedat['YearRemodAdd']\n",
    "Housedat.drop('YearRemodAdd', axis =1, inplace = True)\n",
    "fillvals = {'LotFrontage': 0, 'MasVnrArea': 0, 'GarageYrBlt': min(Housedat['GarageYrBlt'])}\n",
    "Housedat.fillna(value = fillvals, inplace = True)\n",
    "Housedat['GarageAge']=2010 - Housedat['GarageYrBlt']\n",
    "Housedat.drop('GarageYrBlt', axis =1, inplace = True)\n",
    "Housedat['MonthsSold']= 12*(2010 - Housedat['YrSold'])+(12-Housedat['MoSold'])\n",
    "Housedat.drop(['YrSold', 'MoSold'], axis = 1, inplace = True)"
   ]
  },
  {
   "cell_type": "code",
   "execution_count": 10,
   "metadata": {},
   "outputs": [],
   "source": [
    "for col in Housedat.columns:\n",
    "    if np.max(Housedat[col].value_counts()) >= len(Housedat) * 0.9:\n",
    "        Housedat = Housedat.drop(col, axis=1)"
   ]
  },
  {
   "cell_type": "code",
   "execution_count": 11,
   "metadata": {},
   "outputs": [
    {
     "data": {
      "text/html": [
       "<div>\n",
       "<style scoped>\n",
       "    .dataframe tbody tr th:only-of-type {\n",
       "        vertical-align: middle;\n",
       "    }\n",
       "\n",
       "    .dataframe tbody tr th {\n",
       "        vertical-align: top;\n",
       "    }\n",
       "\n",
       "    .dataframe thead th {\n",
       "        text-align: right;\n",
       "    }\n",
       "</style>\n",
       "<table border=\"1\" class=\"dataframe\">\n",
       "  <thead>\n",
       "    <tr style=\"text-align: right;\">\n",
       "      <th></th>\n",
       "      <th>MSSubClass</th>\n",
       "      <th>LotFrontage</th>\n",
       "      <th>LotArea</th>\n",
       "      <th>OverallQual</th>\n",
       "      <th>OverallCond</th>\n",
       "      <th>MasVnrArea</th>\n",
       "      <th>BsmtFinSF1</th>\n",
       "      <th>BsmtFinSF2</th>\n",
       "      <th>BsmtUnfSF</th>\n",
       "      <th>TotalBsmtSF</th>\n",
       "      <th>...</th>\n",
       "      <th>GarageFinish_RFn</th>\n",
       "      <th>GarageFinish_Unf</th>\n",
       "      <th>GarageQual_TA</th>\n",
       "      <th>Fence_MnPrv</th>\n",
       "      <th>SaleType_WD</th>\n",
       "      <th>SaleCondition_Normal</th>\n",
       "      <th>HouseAge</th>\n",
       "      <th>RemodAge</th>\n",
       "      <th>GarageAge</th>\n",
       "      <th>MonthsSold</th>\n",
       "    </tr>\n",
       "  </thead>\n",
       "  <tbody>\n",
       "    <tr>\n",
       "      <th>0</th>\n",
       "      <td>60</td>\n",
       "      <td>65.0</td>\n",
       "      <td>8450</td>\n",
       "      <td>7</td>\n",
       "      <td>5</td>\n",
       "      <td>196.0</td>\n",
       "      <td>706</td>\n",
       "      <td>0</td>\n",
       "      <td>150</td>\n",
       "      <td>856</td>\n",
       "      <td>...</td>\n",
       "      <td>1</td>\n",
       "      <td>0</td>\n",
       "      <td>1</td>\n",
       "      <td>0</td>\n",
       "      <td>1</td>\n",
       "      <td>1</td>\n",
       "      <td>7</td>\n",
       "      <td>7</td>\n",
       "      <td>7.0</td>\n",
       "      <td>34</td>\n",
       "    </tr>\n",
       "    <tr>\n",
       "      <th>1</th>\n",
       "      <td>20</td>\n",
       "      <td>80.0</td>\n",
       "      <td>9600</td>\n",
       "      <td>6</td>\n",
       "      <td>8</td>\n",
       "      <td>0.0</td>\n",
       "      <td>978</td>\n",
       "      <td>0</td>\n",
       "      <td>284</td>\n",
       "      <td>1262</td>\n",
       "      <td>...</td>\n",
       "      <td>1</td>\n",
       "      <td>0</td>\n",
       "      <td>1</td>\n",
       "      <td>0</td>\n",
       "      <td>1</td>\n",
       "      <td>1</td>\n",
       "      <td>34</td>\n",
       "      <td>34</td>\n",
       "      <td>34.0</td>\n",
       "      <td>43</td>\n",
       "    </tr>\n",
       "    <tr>\n",
       "      <th>2</th>\n",
       "      <td>60</td>\n",
       "      <td>68.0</td>\n",
       "      <td>11250</td>\n",
       "      <td>7</td>\n",
       "      <td>5</td>\n",
       "      <td>162.0</td>\n",
       "      <td>486</td>\n",
       "      <td>0</td>\n",
       "      <td>434</td>\n",
       "      <td>920</td>\n",
       "      <td>...</td>\n",
       "      <td>1</td>\n",
       "      <td>0</td>\n",
       "      <td>1</td>\n",
       "      <td>0</td>\n",
       "      <td>1</td>\n",
       "      <td>1</td>\n",
       "      <td>9</td>\n",
       "      <td>8</td>\n",
       "      <td>9.0</td>\n",
       "      <td>27</td>\n",
       "    </tr>\n",
       "    <tr>\n",
       "      <th>3</th>\n",
       "      <td>70</td>\n",
       "      <td>60.0</td>\n",
       "      <td>9550</td>\n",
       "      <td>7</td>\n",
       "      <td>5</td>\n",
       "      <td>0.0</td>\n",
       "      <td>216</td>\n",
       "      <td>0</td>\n",
       "      <td>540</td>\n",
       "      <td>756</td>\n",
       "      <td>...</td>\n",
       "      <td>0</td>\n",
       "      <td>1</td>\n",
       "      <td>1</td>\n",
       "      <td>0</td>\n",
       "      <td>1</td>\n",
       "      <td>0</td>\n",
       "      <td>95</td>\n",
       "      <td>40</td>\n",
       "      <td>12.0</td>\n",
       "      <td>58</td>\n",
       "    </tr>\n",
       "    <tr>\n",
       "      <th>4</th>\n",
       "      <td>60</td>\n",
       "      <td>84.0</td>\n",
       "      <td>14260</td>\n",
       "      <td>8</td>\n",
       "      <td>5</td>\n",
       "      <td>350.0</td>\n",
       "      <td>655</td>\n",
       "      <td>0</td>\n",
       "      <td>490</td>\n",
       "      <td>1145</td>\n",
       "      <td>...</td>\n",
       "      <td>1</td>\n",
       "      <td>0</td>\n",
       "      <td>1</td>\n",
       "      <td>0</td>\n",
       "      <td>1</td>\n",
       "      <td>1</td>\n",
       "      <td>10</td>\n",
       "      <td>10</td>\n",
       "      <td>10.0</td>\n",
       "      <td>24</td>\n",
       "    </tr>\n",
       "  </tbody>\n",
       "</table>\n",
       "<p>5 rows × 85 columns</p>\n",
       "</div>"
      ],
      "text/plain": [
       "   MSSubClass  LotFrontage  LotArea  OverallQual  OverallCond  MasVnrArea  \\\n",
       "0          60         65.0     8450            7            5       196.0   \n",
       "1          20         80.0     9600            6            8         0.0   \n",
       "2          60         68.0    11250            7            5       162.0   \n",
       "3          70         60.0     9550            7            5         0.0   \n",
       "4          60         84.0    14260            8            5       350.0   \n",
       "\n",
       "   BsmtFinSF1  BsmtFinSF2  BsmtUnfSF  TotalBsmtSF  ...  GarageFinish_RFn  \\\n",
       "0         706           0        150          856  ...                 1   \n",
       "1         978           0        284         1262  ...                 1   \n",
       "2         486           0        434          920  ...                 1   \n",
       "3         216           0        540          756  ...                 0   \n",
       "4         655           0        490         1145  ...                 1   \n",
       "\n",
       "   GarageFinish_Unf  GarageQual_TA  Fence_MnPrv  SaleType_WD  \\\n",
       "0                 0              1            0            1   \n",
       "1                 0              1            0            1   \n",
       "2                 0              1            0            1   \n",
       "3                 1              1            0            1   \n",
       "4                 0              1            0            1   \n",
       "\n",
       "   SaleCondition_Normal  HouseAge  RemodAge  GarageAge  MonthsSold  \n",
       "0                     1         7         7        7.0          34  \n",
       "1                     1        34        34       34.0          43  \n",
       "2                     1         9         8        9.0          27  \n",
       "3                     0        95        40       12.0          58  \n",
       "4                     1        10        10       10.0          24  \n",
       "\n",
       "[5 rows x 85 columns]"
      ]
     },
     "execution_count": 11,
     "metadata": {},
     "output_type": "execute_result"
    }
   ],
   "source": [
    "Housedat.head()"
   ]
  },
  {
   "cell_type": "code",
   "execution_count": 12,
   "metadata": {},
   "outputs": [],
   "source": [
    "Housedat = mean_normal(Housedat)"
   ]
  },
  {
   "cell_type": "code",
   "execution_count": 13,
   "metadata": {},
   "outputs": [
    {
     "data": {
      "text/html": [
       "<div>\n",
       "<style scoped>\n",
       "    .dataframe tbody tr th:only-of-type {\n",
       "        vertical-align: middle;\n",
       "    }\n",
       "\n",
       "    .dataframe tbody tr th {\n",
       "        vertical-align: top;\n",
       "    }\n",
       "\n",
       "    .dataframe thead th {\n",
       "        text-align: right;\n",
       "    }\n",
       "</style>\n",
       "<table border=\"1\" class=\"dataframe\">\n",
       "  <thead>\n",
       "    <tr style=\"text-align: right;\">\n",
       "      <th></th>\n",
       "      <th>MSSubClass</th>\n",
       "      <th>LotFrontage</th>\n",
       "      <th>LotArea</th>\n",
       "      <th>OverallQual</th>\n",
       "      <th>OverallCond</th>\n",
       "      <th>MasVnrArea</th>\n",
       "      <th>BsmtFinSF1</th>\n",
       "      <th>BsmtFinSF2</th>\n",
       "      <th>BsmtUnfSF</th>\n",
       "      <th>TotalBsmtSF</th>\n",
       "      <th>...</th>\n",
       "      <th>GarageFinish_RFn</th>\n",
       "      <th>GarageFinish_Unf</th>\n",
       "      <th>GarageQual_TA</th>\n",
       "      <th>Fence_MnPrv</th>\n",
       "      <th>SaleType_WD</th>\n",
       "      <th>SaleCondition_Normal</th>\n",
       "      <th>HouseAge</th>\n",
       "      <th>RemodAge</th>\n",
       "      <th>GarageAge</th>\n",
       "      <th>MonthsSold</th>\n",
       "    </tr>\n",
       "  </thead>\n",
       "  <tbody>\n",
       "    <tr>\n",
       "      <th>0</th>\n",
       "      <td>0.073350</td>\n",
       "      <td>0.212804</td>\n",
       "      <td>-0.207071</td>\n",
       "      <td>0.651256</td>\n",
       "      <td>-0.517023</td>\n",
       "      <td>0.513928</td>\n",
       "      <td>0.575228</td>\n",
       "      <td>-0.288554</td>\n",
       "      <td>-0.944267</td>\n",
       "      <td>-0.459145</td>\n",
       "      <td>...</td>\n",
       "      <td>1.567811</td>\n",
       "      <td>-0.840903</td>\n",
       "      <td>0.33701</td>\n",
       "      <td>-0.346999</td>\n",
       "      <td>0.390159</td>\n",
       "      <td>0.467491</td>\n",
       "      <td>-1.050634</td>\n",
       "      <td>-0.878367</td>\n",
       "      <td>-0.962220</td>\n",
       "      <td>0.133845</td>\n",
       "    </tr>\n",
       "    <tr>\n",
       "      <th>1</th>\n",
       "      <td>-0.872264</td>\n",
       "      <td>0.645526</td>\n",
       "      <td>-0.091855</td>\n",
       "      <td>-0.071812</td>\n",
       "      <td>2.178881</td>\n",
       "      <td>-0.570555</td>\n",
       "      <td>1.171591</td>\n",
       "      <td>-0.288554</td>\n",
       "      <td>-0.641008</td>\n",
       "      <td>0.466305</td>\n",
       "      <td>...</td>\n",
       "      <td>1.567811</td>\n",
       "      <td>-0.840903</td>\n",
       "      <td>0.33701</td>\n",
       "      <td>-0.346999</td>\n",
       "      <td>0.390159</td>\n",
       "      <td>0.467491</td>\n",
       "      <td>-0.156680</td>\n",
       "      <td>0.429430</td>\n",
       "      <td>-0.061681</td>\n",
       "      <td>0.704490</td>\n",
       "    </tr>\n",
       "    <tr>\n",
       "      <th>2</th>\n",
       "      <td>0.073350</td>\n",
       "      <td>0.299349</td>\n",
       "      <td>0.073455</td>\n",
       "      <td>0.651256</td>\n",
       "      <td>-0.517023</td>\n",
       "      <td>0.325803</td>\n",
       "      <td>0.092875</td>\n",
       "      <td>-0.288554</td>\n",
       "      <td>-0.301540</td>\n",
       "      <td>-0.313261</td>\n",
       "      <td>...</td>\n",
       "      <td>1.567811</td>\n",
       "      <td>-0.840903</td>\n",
       "      <td>0.33701</td>\n",
       "      <td>-0.346999</td>\n",
       "      <td>0.390159</td>\n",
       "      <td>0.467491</td>\n",
       "      <td>-0.984415</td>\n",
       "      <td>-0.829930</td>\n",
       "      <td>-0.895513</td>\n",
       "      <td>-0.309990</td>\n",
       "    </tr>\n",
       "    <tr>\n",
       "      <th>3</th>\n",
       "      <td>0.309753</td>\n",
       "      <td>0.068564</td>\n",
       "      <td>-0.096864</td>\n",
       "      <td>0.651256</td>\n",
       "      <td>-0.517023</td>\n",
       "      <td>-0.570555</td>\n",
       "      <td>-0.499103</td>\n",
       "      <td>-0.288554</td>\n",
       "      <td>-0.061648</td>\n",
       "      <td>-0.687089</td>\n",
       "      <td>...</td>\n",
       "      <td>-0.637395</td>\n",
       "      <td>1.188383</td>\n",
       "      <td>0.33701</td>\n",
       "      <td>-0.346999</td>\n",
       "      <td>0.390159</td>\n",
       "      <td>-2.137613</td>\n",
       "      <td>1.862993</td>\n",
       "      <td>0.720051</td>\n",
       "      <td>-0.795453</td>\n",
       "      <td>1.655565</td>\n",
       "    </tr>\n",
       "    <tr>\n",
       "      <th>4</th>\n",
       "      <td>0.073350</td>\n",
       "      <td>0.760919</td>\n",
       "      <td>0.375020</td>\n",
       "      <td>1.374324</td>\n",
       "      <td>-0.517023</td>\n",
       "      <td>1.366021</td>\n",
       "      <td>0.463410</td>\n",
       "      <td>-0.288554</td>\n",
       "      <td>-0.174805</td>\n",
       "      <td>0.199611</td>\n",
       "      <td>...</td>\n",
       "      <td>1.567811</td>\n",
       "      <td>-0.840903</td>\n",
       "      <td>0.33701</td>\n",
       "      <td>-0.346999</td>\n",
       "      <td>0.390159</td>\n",
       "      <td>0.467491</td>\n",
       "      <td>-0.951306</td>\n",
       "      <td>-0.733056</td>\n",
       "      <td>-0.862160</td>\n",
       "      <td>-0.500205</td>\n",
       "    </tr>\n",
       "  </tbody>\n",
       "</table>\n",
       "<p>5 rows × 85 columns</p>\n",
       "</div>"
      ],
      "text/plain": [
       "   MSSubClass  LotFrontage   LotArea  OverallQual  OverallCond  MasVnrArea  \\\n",
       "0    0.073350     0.212804 -0.207071     0.651256    -0.517023    0.513928   \n",
       "1   -0.872264     0.645526 -0.091855    -0.071812     2.178881   -0.570555   \n",
       "2    0.073350     0.299349  0.073455     0.651256    -0.517023    0.325803   \n",
       "3    0.309753     0.068564 -0.096864     0.651256    -0.517023   -0.570555   \n",
       "4    0.073350     0.760919  0.375020     1.374324    -0.517023    1.366021   \n",
       "\n",
       "   BsmtFinSF1  BsmtFinSF2  BsmtUnfSF  TotalBsmtSF  ...  GarageFinish_RFn  \\\n",
       "0    0.575228   -0.288554  -0.944267    -0.459145  ...          1.567811   \n",
       "1    1.171591   -0.288554  -0.641008     0.466305  ...          1.567811   \n",
       "2    0.092875   -0.288554  -0.301540    -0.313261  ...          1.567811   \n",
       "3   -0.499103   -0.288554  -0.061648    -0.687089  ...         -0.637395   \n",
       "4    0.463410   -0.288554  -0.174805     0.199611  ...          1.567811   \n",
       "\n",
       "   GarageFinish_Unf  GarageQual_TA  Fence_MnPrv  SaleType_WD  \\\n",
       "0         -0.840903        0.33701    -0.346999     0.390159   \n",
       "1         -0.840903        0.33701    -0.346999     0.390159   \n",
       "2         -0.840903        0.33701    -0.346999     0.390159   \n",
       "3          1.188383        0.33701    -0.346999     0.390159   \n",
       "4         -0.840903        0.33701    -0.346999     0.390159   \n",
       "\n",
       "   SaleCondition_Normal  HouseAge  RemodAge  GarageAge  MonthsSold  \n",
       "0              0.467491 -1.050634 -0.878367  -0.962220    0.133845  \n",
       "1              0.467491 -0.156680  0.429430  -0.061681    0.704490  \n",
       "2              0.467491 -0.984415 -0.829930  -0.895513   -0.309990  \n",
       "3             -2.137613  1.862993  0.720051  -0.795453    1.655565  \n",
       "4              0.467491 -0.951306 -0.733056  -0.862160   -0.500205  \n",
       "\n",
       "[5 rows x 85 columns]"
      ]
     },
     "execution_count": 13,
     "metadata": {},
     "output_type": "execute_result"
    }
   ],
   "source": [
    "Housedat.head()"
   ]
  },
  {
   "cell_type": "code",
   "execution_count": 14,
   "metadata": {},
   "outputs": [],
   "source": [
    "pmatrix = mylearn.pca(np.array(Housedat), 0.3)\n",
    "pHouse = np.dot(Housedat, pmatrix)"
   ]
  },
  {
   "cell_type": "code",
   "execution_count": 15,
   "metadata": {},
   "outputs": [
    {
     "data": {
      "text/html": [
       "<div>\n",
       "<style scoped>\n",
       "    .dataframe tbody tr th:only-of-type {\n",
       "        vertical-align: middle;\n",
       "    }\n",
       "\n",
       "    .dataframe tbody tr th {\n",
       "        vertical-align: top;\n",
       "    }\n",
       "\n",
       "    .dataframe thead th {\n",
       "        text-align: right;\n",
       "    }\n",
       "</style>\n",
       "<table border=\"1\" class=\"dataframe\">\n",
       "  <thead>\n",
       "    <tr style=\"text-align: right;\">\n",
       "      <th></th>\n",
       "      <th>0</th>\n",
       "      <th>1</th>\n",
       "      <th>2</th>\n",
       "      <th>3</th>\n",
       "      <th>4</th>\n",
       "      <th>5</th>\n",
       "      <th>6</th>\n",
       "      <th>7</th>\n",
       "      <th>8</th>\n",
       "      <th>9</th>\n",
       "      <th>...</th>\n",
       "      <th>12</th>\n",
       "      <th>13</th>\n",
       "      <th>14</th>\n",
       "      <th>15</th>\n",
       "      <th>16</th>\n",
       "      <th>17</th>\n",
       "      <th>18</th>\n",
       "      <th>19</th>\n",
       "      <th>20</th>\n",
       "      <th>21</th>\n",
       "    </tr>\n",
       "  </thead>\n",
       "  <tbody>\n",
       "    <tr>\n",
       "      <th>0</th>\n",
       "      <td>0.313395</td>\n",
       "      <td>-0.377397</td>\n",
       "      <td>0.241404</td>\n",
       "      <td>-0.769756</td>\n",
       "      <td>-0.286887</td>\n",
       "      <td>-1.475945</td>\n",
       "      <td>0.717252</td>\n",
       "      <td>-0.820513</td>\n",
       "      <td>-1.192110</td>\n",
       "      <td>-0.321173</td>\n",
       "      <td>...</td>\n",
       "      <td>-0.144033</td>\n",
       "      <td>0.609384</td>\n",
       "      <td>3.419795</td>\n",
       "      <td>-0.372945</td>\n",
       "      <td>0.255064</td>\n",
       "      <td>0.248201</td>\n",
       "      <td>2.387182</td>\n",
       "      <td>1.190587</td>\n",
       "      <td>1.922407</td>\n",
       "      <td>4.769471</td>\n",
       "    </tr>\n",
       "    <tr>\n",
       "      <th>1</th>\n",
       "      <td>-1.090010</td>\n",
       "      <td>2.066523</td>\n",
       "      <td>1.830474</td>\n",
       "      <td>1.540622</td>\n",
       "      <td>1.525867</td>\n",
       "      <td>0.809522</td>\n",
       "      <td>0.879188</td>\n",
       "      <td>1.964140</td>\n",
       "      <td>-1.249213</td>\n",
       "      <td>0.920577</td>\n",
       "      <td>...</td>\n",
       "      <td>1.169206</td>\n",
       "      <td>-0.142681</td>\n",
       "      <td>0.770058</td>\n",
       "      <td>3.123881</td>\n",
       "      <td>-0.596589</td>\n",
       "      <td>-0.072112</td>\n",
       "      <td>0.455117</td>\n",
       "      <td>0.240427</td>\n",
       "      <td>-2.075817</td>\n",
       "      <td>-0.756473</td>\n",
       "    </tr>\n",
       "    <tr>\n",
       "      <th>2</th>\n",
       "      <td>-0.393533</td>\n",
       "      <td>-0.801598</td>\n",
       "      <td>1.107256</td>\n",
       "      <td>-0.592018</td>\n",
       "      <td>-0.588127</td>\n",
       "      <td>-0.773631</td>\n",
       "      <td>1.446839</td>\n",
       "      <td>-1.240984</td>\n",
       "      <td>-0.744941</td>\n",
       "      <td>-1.201260</td>\n",
       "      <td>...</td>\n",
       "      <td>0.431171</td>\n",
       "      <td>0.879436</td>\n",
       "      <td>1.674432</td>\n",
       "      <td>0.383814</td>\n",
       "      <td>-0.784574</td>\n",
       "      <td>1.252686</td>\n",
       "      <td>2.791664</td>\n",
       "      <td>0.703302</td>\n",
       "      <td>1.106844</td>\n",
       "      <td>5.424367</td>\n",
       "    </tr>\n",
       "    <tr>\n",
       "      <th>3</th>\n",
       "      <td>1.693295</td>\n",
       "      <td>0.394394</td>\n",
       "      <td>1.082876</td>\n",
       "      <td>-2.251135</td>\n",
       "      <td>2.497427</td>\n",
       "      <td>0.321744</td>\n",
       "      <td>-1.537028</td>\n",
       "      <td>-0.838597</td>\n",
       "      <td>-1.122094</td>\n",
       "      <td>-0.462363</td>\n",
       "      <td>...</td>\n",
       "      <td>-3.074600</td>\n",
       "      <td>-0.292128</td>\n",
       "      <td>-2.112297</td>\n",
       "      <td>0.956647</td>\n",
       "      <td>-2.460402</td>\n",
       "      <td>0.854529</td>\n",
       "      <td>-1.219894</td>\n",
       "      <td>-2.586764</td>\n",
       "      <td>1.327039</td>\n",
       "      <td>-1.641325</td>\n",
       "    </tr>\n",
       "    <tr>\n",
       "      <th>4</th>\n",
       "      <td>-0.092535</td>\n",
       "      <td>-0.470908</td>\n",
       "      <td>0.927614</td>\n",
       "      <td>0.349671</td>\n",
       "      <td>-0.060203</td>\n",
       "      <td>-0.136923</td>\n",
       "      <td>1.657865</td>\n",
       "      <td>-1.569669</td>\n",
       "      <td>-1.678557</td>\n",
       "      <td>-0.844617</td>\n",
       "      <td>...</td>\n",
       "      <td>-0.468763</td>\n",
       "      <td>0.273449</td>\n",
       "      <td>0.597049</td>\n",
       "      <td>0.400890</td>\n",
       "      <td>-1.063544</td>\n",
       "      <td>0.633923</td>\n",
       "      <td>2.272839</td>\n",
       "      <td>-1.720145</td>\n",
       "      <td>0.482482</td>\n",
       "      <td>6.824560</td>\n",
       "    </tr>\n",
       "    <tr>\n",
       "      <th>...</th>\n",
       "      <td>...</td>\n",
       "      <td>...</td>\n",
       "      <td>...</td>\n",
       "      <td>...</td>\n",
       "      <td>...</td>\n",
       "      <td>...</td>\n",
       "      <td>...</td>\n",
       "      <td>...</td>\n",
       "      <td>...</td>\n",
       "      <td>...</td>\n",
       "      <td>...</td>\n",
       "      <td>...</td>\n",
       "      <td>...</td>\n",
       "      <td>...</td>\n",
       "      <td>...</td>\n",
       "      <td>...</td>\n",
       "      <td>...</td>\n",
       "      <td>...</td>\n",
       "      <td>...</td>\n",
       "      <td>...</td>\n",
       "      <td>...</td>\n",
       "    </tr>\n",
       "    <tr>\n",
       "      <th>1455</th>\n",
       "      <td>-0.378665</td>\n",
       "      <td>-0.325971</td>\n",
       "      <td>1.299123</td>\n",
       "      <td>0.850540</td>\n",
       "      <td>0.535304</td>\n",
       "      <td>0.273971</td>\n",
       "      <td>0.181080</td>\n",
       "      <td>2.077498</td>\n",
       "      <td>0.543449</td>\n",
       "      <td>-1.309312</td>\n",
       "      <td>...</td>\n",
       "      <td>0.957966</td>\n",
       "      <td>-0.948218</td>\n",
       "      <td>1.642771</td>\n",
       "      <td>-0.180802</td>\n",
       "      <td>1.509119</td>\n",
       "      <td>2.176856</td>\n",
       "      <td>0.959936</td>\n",
       "      <td>-0.076896</td>\n",
       "      <td>2.881659</td>\n",
       "      <td>1.962347</td>\n",
       "    </tr>\n",
       "    <tr>\n",
       "      <th>1456</th>\n",
       "      <td>-2.398267</td>\n",
       "      <td>1.225914</td>\n",
       "      <td>0.324687</td>\n",
       "      <td>0.736199</td>\n",
       "      <td>-1.534772</td>\n",
       "      <td>2.017582</td>\n",
       "      <td>1.085849</td>\n",
       "      <td>3.003795</td>\n",
       "      <td>0.189825</td>\n",
       "      <td>0.942618</td>\n",
       "      <td>...</td>\n",
       "      <td>-0.221644</td>\n",
       "      <td>-1.576655</td>\n",
       "      <td>1.397250</td>\n",
       "      <td>-0.544659</td>\n",
       "      <td>-0.472997</td>\n",
       "      <td>0.222531</td>\n",
       "      <td>0.307354</td>\n",
       "      <td>-1.438246</td>\n",
       "      <td>-3.975668</td>\n",
       "      <td>-0.294975</td>\n",
       "    </tr>\n",
       "    <tr>\n",
       "      <th>1457</th>\n",
       "      <td>1.421241</td>\n",
       "      <td>2.001948</td>\n",
       "      <td>-1.528792</td>\n",
       "      <td>-0.270315</td>\n",
       "      <td>-0.674846</td>\n",
       "      <td>-0.375321</td>\n",
       "      <td>-0.425167</td>\n",
       "      <td>-0.856299</td>\n",
       "      <td>-0.044257</td>\n",
       "      <td>3.485354</td>\n",
       "      <td>...</td>\n",
       "      <td>1.853848</td>\n",
       "      <td>0.989952</td>\n",
       "      <td>2.298225</td>\n",
       "      <td>0.024642</td>\n",
       "      <td>-1.516201</td>\n",
       "      <td>0.461366</td>\n",
       "      <td>-0.683323</td>\n",
       "      <td>-2.668987</td>\n",
       "      <td>1.983723</td>\n",
       "      <td>0.782709</td>\n",
       "    </tr>\n",
       "    <tr>\n",
       "      <th>1458</th>\n",
       "      <td>0.330077</td>\n",
       "      <td>-2.463311</td>\n",
       "      <td>-0.076815</td>\n",
       "      <td>0.372168</td>\n",
       "      <td>2.348578</td>\n",
       "      <td>-0.276901</td>\n",
       "      <td>-0.137377</td>\n",
       "      <td>0.200684</td>\n",
       "      <td>0.704655</td>\n",
       "      <td>2.809865</td>\n",
       "      <td>...</td>\n",
       "      <td>0.418024</td>\n",
       "      <td>-0.955719</td>\n",
       "      <td>3.112968</td>\n",
       "      <td>2.004519</td>\n",
       "      <td>-1.751910</td>\n",
       "      <td>-1.377424</td>\n",
       "      <td>-0.366444</td>\n",
       "      <td>1.455852</td>\n",
       "      <td>-3.559575</td>\n",
       "      <td>-3.271736</td>\n",
       "    </tr>\n",
       "    <tr>\n",
       "      <th>1459</th>\n",
       "      <td>0.174094</td>\n",
       "      <td>-2.330588</td>\n",
       "      <td>-2.288847</td>\n",
       "      <td>0.129465</td>\n",
       "      <td>0.757094</td>\n",
       "      <td>1.081055</td>\n",
       "      <td>-2.068473</td>\n",
       "      <td>0.717913</td>\n",
       "      <td>1.570664</td>\n",
       "      <td>2.564206</td>\n",
       "      <td>...</td>\n",
       "      <td>0.654593</td>\n",
       "      <td>-0.353082</td>\n",
       "      <td>1.034494</td>\n",
       "      <td>-0.763277</td>\n",
       "      <td>-0.565418</td>\n",
       "      <td>1.271129</td>\n",
       "      <td>2.002647</td>\n",
       "      <td>-0.061634</td>\n",
       "      <td>-3.405299</td>\n",
       "      <td>-1.737169</td>\n",
       "    </tr>\n",
       "  </tbody>\n",
       "</table>\n",
       "<p>1460 rows × 22 columns</p>\n",
       "</div>"
      ],
      "text/plain": [
       "            0         1         2         3         4         5         6   \\\n",
       "0     0.313395 -0.377397  0.241404 -0.769756 -0.286887 -1.475945  0.717252   \n",
       "1    -1.090010  2.066523  1.830474  1.540622  1.525867  0.809522  0.879188   \n",
       "2    -0.393533 -0.801598  1.107256 -0.592018 -0.588127 -0.773631  1.446839   \n",
       "3     1.693295  0.394394  1.082876 -2.251135  2.497427  0.321744 -1.537028   \n",
       "4    -0.092535 -0.470908  0.927614  0.349671 -0.060203 -0.136923  1.657865   \n",
       "...        ...       ...       ...       ...       ...       ...       ...   \n",
       "1455 -0.378665 -0.325971  1.299123  0.850540  0.535304  0.273971  0.181080   \n",
       "1456 -2.398267  1.225914  0.324687  0.736199 -1.534772  2.017582  1.085849   \n",
       "1457  1.421241  2.001948 -1.528792 -0.270315 -0.674846 -0.375321 -0.425167   \n",
       "1458  0.330077 -2.463311 -0.076815  0.372168  2.348578 -0.276901 -0.137377   \n",
       "1459  0.174094 -2.330588 -2.288847  0.129465  0.757094  1.081055 -2.068473   \n",
       "\n",
       "            7         8         9   ...        12        13        14  \\\n",
       "0    -0.820513 -1.192110 -0.321173  ... -0.144033  0.609384  3.419795   \n",
       "1     1.964140 -1.249213  0.920577  ...  1.169206 -0.142681  0.770058   \n",
       "2    -1.240984 -0.744941 -1.201260  ...  0.431171  0.879436  1.674432   \n",
       "3    -0.838597 -1.122094 -0.462363  ... -3.074600 -0.292128 -2.112297   \n",
       "4    -1.569669 -1.678557 -0.844617  ... -0.468763  0.273449  0.597049   \n",
       "...        ...       ...       ...  ...       ...       ...       ...   \n",
       "1455  2.077498  0.543449 -1.309312  ...  0.957966 -0.948218  1.642771   \n",
       "1456  3.003795  0.189825  0.942618  ... -0.221644 -1.576655  1.397250   \n",
       "1457 -0.856299 -0.044257  3.485354  ...  1.853848  0.989952  2.298225   \n",
       "1458  0.200684  0.704655  2.809865  ...  0.418024 -0.955719  3.112968   \n",
       "1459  0.717913  1.570664  2.564206  ...  0.654593 -0.353082  1.034494   \n",
       "\n",
       "            15        16        17        18        19        20        21  \n",
       "0    -0.372945  0.255064  0.248201  2.387182  1.190587  1.922407  4.769471  \n",
       "1     3.123881 -0.596589 -0.072112  0.455117  0.240427 -2.075817 -0.756473  \n",
       "2     0.383814 -0.784574  1.252686  2.791664  0.703302  1.106844  5.424367  \n",
       "3     0.956647 -2.460402  0.854529 -1.219894 -2.586764  1.327039 -1.641325  \n",
       "4     0.400890 -1.063544  0.633923  2.272839 -1.720145  0.482482  6.824560  \n",
       "...        ...       ...       ...       ...       ...       ...       ...  \n",
       "1455 -0.180802  1.509119  2.176856  0.959936 -0.076896  2.881659  1.962347  \n",
       "1456 -0.544659 -0.472997  0.222531  0.307354 -1.438246 -3.975668 -0.294975  \n",
       "1457  0.024642 -1.516201  0.461366 -0.683323 -2.668987  1.983723  0.782709  \n",
       "1458  2.004519 -1.751910 -1.377424 -0.366444  1.455852 -3.559575 -3.271736  \n",
       "1459 -0.763277 -0.565418  1.271129  2.002647 -0.061634 -3.405299 -1.737169  \n",
       "\n",
       "[1460 rows x 22 columns]"
      ]
     },
     "execution_count": 15,
     "metadata": {},
     "output_type": "execute_result"
    }
   ],
   "source": [
    "pd.DataFrame(pHouse)"
   ]
  },
  {
   "cell_type": "code",
   "execution_count": 16,
   "metadata": {},
   "outputs": [],
   "source": [
    "###create 4 folds do 4 fold k-folding"
   ]
  },
  {
   "cell_type": "code",
   "execution_count": 17,
   "metadata": {},
   "outputs": [],
   "source": [
    "nfolds = 4\n",
    "folds = np.random.choice(len(House), size = len(House), replace = False)\n",
    "sfold = int(len(folds)/nfolds)"
   ]
  },
  {
   "cell_type": "code",
   "execution_count": 18,
   "metadata": {},
   "outputs": [],
   "source": [
    "fold = []\n",
    "for i in range(sfold):\n",
    "    fold.append(folds[i*sfold:(i+1)*sfold])"
   ]
  },
  {
   "cell_type": "code",
   "execution_count": 19,
   "metadata": {},
   "outputs": [],
   "source": [
    "Houseval = Housedat.loc[list(fold[3])]\n",
    "Housetrain = Housedat.drop(fold[3])\n",
    "valtarget = targets[fold[3]]\n",
    "traintarget = targets.drop(fold[3])"
   ]
  },
  {
   "cell_type": "code",
   "execution_count": 20,
   "metadata": {},
   "outputs": [],
   "source": [
    "probs = []\n",
    "for val in np.unique(traintarget):\n",
    "    prob = sum(traintarget == val)/len(traintarget)\n",
    "    probs.append(prob)"
   ]
  },
  {
   "cell_type": "code",
   "execution_count": 21,
   "metadata": {},
   "outputs": [
    {
     "data": {
      "text/plain": [
       "[0.08036529680365297,\n",
       " 0.3415525114155251,\n",
       " 0.28858447488584477,\n",
       " 0.13607305936073058,\n",
       " 0.15342465753424658]"
      ]
     },
     "execution_count": 21,
     "metadata": {},
     "output_type": "execute_result"
    }
   ],
   "source": [
    "probs"
   ]
  },
  {
   "cell_type": "code",
   "execution_count": 22,
   "metadata": {},
   "outputs": [],
   "source": [
    "mpptrain =  mylearn.mpp(np.array(Housetrain), np.array(traintarget), np.array(Housetrain), 2, probs, output=False)\n",
    "mppval = mylearn.mpp(np.array(Housetrain), np.array(traintarget), np.array(Houseval), 2, probs, output=False)"
   ]
  },
  {
   "cell_type": "code",
   "execution_count": 23,
   "metadata": {},
   "outputs": [
    {
     "data": {
      "text/plain": [
       "MLPClassifier(activation='logistic', hidden_layer_sizes=7, max_iter=5000)"
      ]
     },
     "execution_count": 23,
     "metadata": {},
     "output_type": "execute_result"
    }
   ],
   "source": [
    "from sklearn.neural_network import MLPClassifier\n",
    "from sklearn.metrics import classification_report, confusion_matrix\n",
    "# Number of neurons chosen so number of weights is approximately 1095 / 10\n",
    "net = MLPClassifier(hidden_layer_sizes=(7), activation='logistic', max_iter=5000)\n",
    "net.fit(np.array(Housetrain), np.array(traintarget))"
   ]
  },
  {
   "cell_type": "code",
   "execution_count": 24,
   "metadata": {},
   "outputs": [],
   "source": [
    "bpnntrain = net.predict(np.array(Housetrain))\n",
    "bpnnval = net.predict(np.array(Houseval))"
   ]
  },
  {
   "cell_type": "code",
   "execution_count": 25,
   "metadata": {},
   "outputs": [
    {
     "data": {
      "text/plain": [
       "SVC()"
      ]
     },
     "execution_count": 25,
     "metadata": {},
     "output_type": "execute_result"
    }
   ],
   "source": [
    "from sklearn import svm\n",
    "svm_clf = svm.SVC()\n",
    "svm_clf.fit(Housetrain, traintarget)"
   ]
  },
  {
   "cell_type": "code",
   "execution_count": 26,
   "metadata": {},
   "outputs": [],
   "source": [
    "svmtrain = svm_clf.predict(np.array(Housetrain))\n",
    "svmval = svm_clf.predict(np.array(Houseval))"
   ]
  },
  {
   "cell_type": "code",
   "execution_count": 27,
   "metadata": {},
   "outputs": [
    {
     "data": {
      "text/plain": [
       "365"
      ]
     },
     "execution_count": 27,
     "metadata": {},
     "output_type": "execute_result"
    }
   ],
   "source": [
    "len(svmval)"
   ]
  },
  {
   "cell_type": "code",
   "execution_count": 28,
   "metadata": {},
   "outputs": [],
   "source": [
    "mppdec = np.zeros((5,5))"
   ]
  },
  {
   "cell_type": "code",
   "execution_count": 29,
   "metadata": {},
   "outputs": [],
   "source": [
    "for idx, val in enumerate(traintarget):\n",
    "    mppdec[val, int(mpptrain[idx])]+=1"
   ]
  },
  {
   "cell_type": "code",
   "execution_count": 30,
   "metadata": {},
   "outputs": [
    {
     "data": {
      "text/plain": [
       "array([[ 70.,  17.,   1.,   0.,   0.],\n",
       "       [ 23., 310.,  39.,   0.,   2.],\n",
       "       [  0.,  60., 206.,  48.,   2.],\n",
       "       [  0.,   1.,  28., 113.,   7.],\n",
       "       [  0.,   0.,   6.,  25., 137.]])"
      ]
     },
     "execution_count": 30,
     "metadata": {},
     "output_type": "execute_result"
    }
   ],
   "source": [
    "mppdec"
   ]
  },
  {
   "cell_type": "code",
   "execution_count": 31,
   "metadata": {},
   "outputs": [],
   "source": [
    "bpnndec = np.zeros((5,5))"
   ]
  },
  {
   "cell_type": "code",
   "execution_count": 32,
   "metadata": {},
   "outputs": [],
   "source": [
    "for idx, val in enumerate(traintarget):\n",
    "    bpnndec[val, int(bpnntrain[idx])]+=1"
   ]
  },
  {
   "cell_type": "code",
   "execution_count": 33,
   "metadata": {},
   "outputs": [
    {
     "data": {
      "text/plain": [
       "array([[ 59.,  29.,   0.,   0.,   0.],\n",
       "       [  6., 361.,   5.,   2.,   0.],\n",
       "       [  0.,   4., 305.,   3.,   4.],\n",
       "       [  0.,   0.,   1., 144.,   4.],\n",
       "       [  0.,   0.,   0.,   6., 162.]])"
      ]
     },
     "execution_count": 33,
     "metadata": {},
     "output_type": "execute_result"
    }
   ],
   "source": [
    "bpnndec"
   ]
  },
  {
   "cell_type": "code",
   "execution_count": 34,
   "metadata": {},
   "outputs": [],
   "source": [
    "svmdec = np.zeros((5,5))"
   ]
  },
  {
   "cell_type": "code",
   "execution_count": 35,
   "metadata": {},
   "outputs": [],
   "source": [
    "for idx, val in enumerate(traintarget):\n",
    "    svmdec[val, int(svmtrain[idx])]+=1"
   ]
  },
  {
   "cell_type": "code",
   "execution_count": 36,
   "metadata": {},
   "outputs": [
    {
     "data": {
      "text/plain": [
       "array([[ 69.,  18.,   1.,   0.,   0.],\n",
       "       [  0., 363.,  10.,   0.,   1.],\n",
       "       [  0.,  20., 291.,   5.,   0.],\n",
       "       [  0.,   1.,  16., 130.,   2.],\n",
       "       [  0.,   0.,   3.,   6., 159.]])"
      ]
     },
     "execution_count": 36,
     "metadata": {},
     "output_type": "execute_result"
    }
   ],
   "source": [
    "svmdec"
   ]
  },
  {
   "cell_type": "code",
   "execution_count": 37,
   "metadata": {},
   "outputs": [],
   "source": [
    "for i in range(5):\n",
    "    svmdec[i, :]/=svmdec[i, :].sum()\n",
    "    bpnndec[i,:]/=bpnndec[i,:].sum()\n",
    "    mppdec[i, :]/=mppdec[i, :].sum()"
   ]
  },
  {
   "cell_type": "code",
   "execution_count": 38,
   "metadata": {},
   "outputs": [
    {
     "data": {
      "text/plain": [
       "array([[0.78409091, 0.20454545, 0.01136364, 0.        , 0.        ],\n",
       "       [0.        , 0.97058824, 0.02673797, 0.        , 0.0026738 ],\n",
       "       [0.        , 0.06329114, 0.92088608, 0.01582278, 0.        ],\n",
       "       [0.        , 0.00671141, 0.10738255, 0.87248322, 0.01342282],\n",
       "       [0.        , 0.        , 0.01785714, 0.03571429, 0.94642857]])"
      ]
     },
     "execution_count": 38,
     "metadata": {},
     "output_type": "execute_result"
    }
   ],
   "source": [
    "svmdec"
   ]
  },
  {
   "cell_type": "code",
   "execution_count": 39,
   "metadata": {},
   "outputs": [
    {
     "data": {
      "text/plain": [
       "array([[0.67045455, 0.32954545, 0.        , 0.        , 0.        ],\n",
       "       [0.01604278, 0.96524064, 0.01336898, 0.00534759, 0.        ],\n",
       "       [0.        , 0.01265823, 0.96518987, 0.00949367, 0.01265823],\n",
       "       [0.        , 0.        , 0.00671141, 0.96644295, 0.02684564],\n",
       "       [0.        , 0.        , 0.        , 0.03571429, 0.96428571]])"
      ]
     },
     "execution_count": 39,
     "metadata": {},
     "output_type": "execute_result"
    }
   ],
   "source": [
    "bpnndec"
   ]
  },
  {
   "cell_type": "code",
   "execution_count": 40,
   "metadata": {},
   "outputs": [],
   "source": [
    "vals = []\n",
    "for i in range(len(valtarget)):\n",
    "    mp = int(mppval[i])\n",
    "    sv = int(svmval[i])\n",
    "    bp = int(bpnnval[i])\n",
    "    guess = np.argmax(mppdec[:,mp]*svmdec[:,sv]*bpnndec[:,bp])\n",
    "    vals.append(guess)"
   ]
  },
  {
   "cell_type": "code",
   "execution_count": 41,
   "metadata": {},
   "outputs": [],
   "source": [
    "NBClassAcc, NBOvAcc = util.accuracy_score(np.array(valtarget), vals) "
   ]
  },
  {
   "cell_type": "code",
   "execution_count": 42,
   "metadata": {},
   "outputs": [
    {
     "data": {
      "text/plain": [
       "0.673972602739726"
      ]
     },
     "execution_count": 42,
     "metadata": {},
     "output_type": "execute_result"
    }
   ],
   "source": [
    "NBOvAcc"
   ]
  },
  {
   "cell_type": "code",
   "execution_count": 43,
   "metadata": {},
   "outputs": [],
   "source": [
    "from scipy import stats"
   ]
  },
  {
   "cell_type": "code",
   "execution_count": 44,
   "metadata": {},
   "outputs": [],
   "source": [
    "bksvals = []\n",
    "for i in range(len(valtarget)):\n",
    "    mp = int(mppval[i])\n",
    "    sv = int(svmval[i])\n",
    "    bp = int(bpnnval[i])\n",
    "    combined = traintarget[(mpptrain==mp)&(svmtrain==sv)&(bpnntrain==bp)]\n",
    "    if len(combined) == 0: \n",
    "        guess = bp\n",
    "    else:\n",
    "        guess = stats.mode(combined)[0][0]\n",
    "    bksvals.append(guess)"
   ]
  },
  {
   "cell_type": "code",
   "execution_count": 45,
   "metadata": {},
   "outputs": [],
   "source": [
    "BKSClassAcc, BKSOvAcc = util.accuracy_score(np.array(valtarget), bksvals) "
   ]
  },
  {
   "cell_type": "code",
   "execution_count": 46,
   "metadata": {},
   "outputs": [
    {
     "data": {
      "text/plain": [
       "0.6684931506849315"
      ]
     },
     "execution_count": 46,
     "metadata": {},
     "output_type": "execute_result"
    }
   ],
   "source": [
    "BKSOvAcc"
   ]
  },
  {
   "cell_type": "code",
   "execution_count": null,
   "metadata": {},
   "outputs": [],
   "source": []
  }
 ],
 "metadata": {
  "kernelspec": {
   "display_name": "Python 3",
   "language": "python",
   "name": "python3"
  },
  "language_info": {
   "codemirror_mode": {
    "name": "ipython",
    "version": 3
   },
   "file_extension": ".py",
   "mimetype": "text/x-python",
   "name": "python",
   "nbconvert_exporter": "python",
   "pygments_lexer": "ipython3",
   "version": "3.8.5"
  }
 },
 "nbformat": 4,
 "nbformat_minor": 4
}
