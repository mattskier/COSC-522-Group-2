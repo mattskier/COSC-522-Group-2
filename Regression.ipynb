{
 "cells": [
  {
   "cell_type": "code",
   "execution_count": 17,
   "metadata": {},
   "outputs": [],
   "source": [
    "import numpy as np\n",
    "import pandas as pd\n",
    "import matplotlib.pyplot as plt\n",
    "import util\n",
    "import mylearn\n",
    "import time\n",
    "np.random.seed(1)\n",
    "data = pd.read_csv('train.csv') #pre-downloaded housing data\n",
    "House = data.copy()\n"
   ]
  },
  {
   "cell_type": "code",
   "execution_count": 18,
   "metadata": {},
   "outputs": [
    {
     "data": {
      "text/plain": [
       "0"
      ]
     },
     "execution_count": 18,
     "metadata": {},
     "output_type": "execute_result"
    }
   ],
   "source": [
    "# preprocessing that Matt suggested\n",
    "\n",
    "replace_index = np.random.choice(len(House), size = int(len(House)/4), replace = False)\n",
    "Houseval = House.iloc[replace_index]\n",
    "Housetrain= House.drop(replace_index)\n",
    "cats = ['LotFrontage', 'LotArea', 'OverallQual', 'OverallCond', 'YearBuilt', 'YearRemodAdd', 'MasVnrArea', 'BsmtUnfSF',\n",
    "       'TotalBsmtSF', '1stFlrSF', '2ndFlrSF', 'LowQualFinSF', 'GrLivArea', 'BsmtFullBath', 'BsmtHalfBath', 'FullBath',\n",
    "       'HalfBath', 'BedroomAbvGr', 'KitchenAbvGr', 'TotRmsAbvGrd', 'Fireplaces', 'GarageYrBlt', 'GarageCars', 'GarageArea',\n",
    "       'WoodDeckSF', 'OpenPorchSF', 'EnclosedPorch','3SsnPorch', 'ScreenPorch', 'PoolArea', 'MiscVal', 'MoSold', 'YrSold']\n",
    "target = 'SalePrice'\n",
    "traintarget = Housetrain[target]\n",
    "valtarget = Houseval[target]\n",
    "Housetrain = Housetrain[cats]\n",
    "Houseval = Houseval[cats]\n",
    "Housetrain['HouseAge']=2010 - Housetrain['YearBuilt']\n",
    "Houseval['HouseAge'] = 2010 - Houseval['YearBuilt']\n",
    "Housetrain.drop('YearBuilt', axis =1, inplace = True)\n",
    "Houseval.drop('YearBuilt', axis = 1, inplace = True)\n",
    "Housetrain['RemodAge']=2010 - Housetrain['YearRemodAdd']\n",
    "Houseval['RemodAge'] = 2010 - Houseval['YearRemodAdd']\n",
    "Housetrain.drop('YearRemodAdd', axis =1, inplace = True)\n",
    "Houseval.drop('YearRemodAdd', axis = 1, inplace = True)\n",
    "fillvals = {'LotFrontage': 0, 'MasVnrArea': 0, 'GarageYrBlt': min(Housetrain['GarageYrBlt'])}  #creates fill values\n",
    "Housetrain.fillna(value = fillvals, inplace = True)\n",
    "Houseval.fillna(value = fillvals, inplace = True)\n",
    "Housetrain.isnull().sum().sum()\n",
    "Houseval.isnull().sum().sum()"
   ]
  },
  {
   "cell_type": "code",
   "execution_count": 19,
   "metadata": {},
   "outputs": [],
   "source": [
    "ytrain = traintarget \n",
    "ytest = valtarget \n",
    "xtrain = Housetrain \n",
    "xtest = Houseval "
   ]
  },
  {
   "cell_type": "code",
   "execution_count": 20,
   "metadata": {},
   "outputs": [
    {
     "name": "stdout",
     "output_type": "stream",
     "text": [
      "Overall accuracy for Linear Regression = 0.8153819924647678;\n",
      "The Linear Regression learning process takes 0.005984067916870117 seconds.\n"
     ]
    }
   ],
   "source": [
    "# apply linear regression\n",
    "\n",
    "from sklearn import preprocessing, svm\n",
    "from sklearn.model_selection import train_test_split\n",
    "from sklearn.linear_model import LinearRegression\n",
    "clf = LinearRegression()\n",
    "t0 = time.time()           # start time\n",
    "clf.fit(xtrain, ytrain)\n",
    "t1 = time.time()           # ending time\n",
    "accuracy = clf.score(xtest, ytest)\n",
    "\n",
    "print(f'Overall accuracy for Linear Regression = {accuracy};')\n",
    "print(f'The Linear Regression learning process takes {t1 - t0} seconds.')"
   ]
  },
  {
   "cell_type": "code",
   "execution_count": 21,
   "metadata": {},
   "outputs": [
    {
     "data": {
      "image/png": "[encoded data removed]",
      "text/plain": [
       "<Figure size 432x288 with 1 Axes>"
      ]
     },
     "metadata": {
      "needs_background": "light"
     },
     "output_type": "display_data"
    }
   ],
   "source": [
    "# plot of real values vs predicted ones\n",
    "\n",
    "import matplotlib.pyplot as plt\n",
    "\n",
    "y_train_pred = clf.predict(xtrain)\n",
    "y_test_pred = clf.predict(xtest)\n",
    "\n",
    "plt.scatter(y_train_pred,ytrain, c = \"blue\", label = \"Training data\")\n",
    "plt.scatter(y_test_pred, ytest, c = \"lightgreen\", label = \"Test data\")\n",
    "plt.title(\"Linear regression\")\n",
    "plt.xlabel(\"Predicted values\")\n",
    "plt.ylabel(\"Real values\")\n",
    "plt.legend(loc = \"upper left\")\n",
    "plt.plot([10.5, 13.5], [10.5, 13.5], c = \"red\")\n",
    "plt.show()\n"
   ]
  },
  {
   "cell_type": "code",
   "execution_count": 22,
   "metadata": {},
   "outputs": [
    {
     "name": "stdout",
     "output_type": "stream",
     "text": [
      "Overall accuracy for Linear Regression with normalization = 0.8153030871639096;\n",
      "The Linear Regression with normalization learning process takes 0.0029935836791992188 seconds.\n"
     ]
    }
   ],
   "source": [
    "# now regression with normalization\n",
    "import util\n",
    "\n",
    "xtrain_normalized, xtest_normalized = util.normalize(xtrain, Te=xtest)\n",
    "\n",
    "clf = LinearRegression()\n",
    "t0 = time.time()           # start time\n",
    "clf.fit(xtrain_normalized, ytrain)\n",
    "t1 = time.time()           # ending time\n",
    "accuracy = clf.score(xtest_normalized, ytest)\n",
    "\n",
    "print(f'Overall accuracy for Linear Regression with normalization = {accuracy};')\n",
    "print(f'The Linear Regression with normalization learning process takes {t1 - t0} seconds.')"
   ]
  },
  {
   "cell_type": "code",
   "execution_count": 23,
   "metadata": {},
   "outputs": [
    {
     "name": "stdout",
     "output_type": "stream",
     "text": [
      "Overall accuracy for Linear Regression with normalization and pca = 0.7956282937646244;\n",
      "The Linear Regression with normalization and pca learning process takes 0.001994609832763672 seconds.\n"
     ]
    }
   ],
   "source": [
    "# now regression with pca\n",
    "\n",
    "import mylearn\n",
    "\n",
    "E = mylearn.pca(xtrain_normalized, 0.15)\n",
    "\n",
    "xtrain_np = np.dot(xtrain_normalized, E)\n",
    "xtest_np = np.dot(xtest_normalized, E)\n",
    "\n",
    "\n",
    "clf = LinearRegression()\n",
    "t0 = time.time()           # start time\n",
    "clf.fit(xtrain_np, ytrain)\n",
    "t1 = time.time()           # ending time\n",
    "accuracy = clf.score(xtest_np, ytest)\n",
    "\n",
    "print(f'Overall accuracy for Linear Regression with normalization and pca = {accuracy};')\n",
    "print(f'The Linear Regression with normalization and pca learning process takes {t1 - t0} seconds.')\n"
   ]
  }
 ],
 "metadata": {
  "kernelspec": {
   "display_name": "Python 3",
   "language": "python",
   "name": "python3"
  },
  "language_info": {
   "codemirror_mode": {
    "name": "ipython",
    "version": 3
   },
   "file_extension": ".py",
   "mimetype": "text/x-python",
   "name": "python",
   "nbconvert_exporter": "python",
   "pygments_lexer": "ipython3",
   "version": "3.8.3"
  }
 },
 "nbformat": 4,
 "nbformat_minor": 4
}
