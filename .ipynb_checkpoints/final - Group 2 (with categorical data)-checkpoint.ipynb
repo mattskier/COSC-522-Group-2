{
 "cells": [
  {
   "cell_type": "markdown",
   "metadata": {},
   "source": [
    "## Group 2: Ames Housing Data Project\n",
    "\n",
    "Here we will use the Ames Housing data provided in order to determine the sale price of a house depending on the amount of data given.  We will first need to analyze and clean the data and then determine the best machine learning models to use in order to have some regression on the data.  \n",
    "\n",
    "First we will need to import our relevant libraries (mylearn and util are those posted by Dr. Qi) and our training data"
   ]
  },
  {
   "cell_type": "code",
   "execution_count": 2,
   "metadata": {},
   "outputs": [],
   "source": [
    "import numpy as np\n",
    "import pandas as pd\n",
    "import matplotlib.pyplot as plt\n",
    "import util\n",
    "import mylearn\n",
    "import time\n",
    "np.random.seed(1)"
   ]
  },
  {
   "cell_type": "code",
   "execution_count": 4,
   "metadata": {},
   "outputs": [],
   "source": [
    "data = pd.read_csv('train.csv') #pre-downloaded housing data"
   ]
  },
  {
   "cell_type": "code",
   "execution_count": 5,
   "metadata": {},
   "outputs": [
    {
     "data": {
      "text/html": [
       "<div>\n",
       "<style scoped>\n",
       "    .dataframe tbody tr th:only-of-type {\n",
       "        vertical-align: middle;\n",
       "    }\n",
       "\n",
       "    .dataframe tbody tr th {\n",
       "        vertical-align: top;\n",
       "    }\n",
       "\n",
       "    .dataframe thead th {\n",
       "        text-align: right;\n",
       "    }\n",
       "</style>\n",
       "<table border=\"1\" class=\"dataframe\">\n",
       "  <thead>\n",
       "    <tr style=\"text-align: right;\">\n",
       "      <th></th>\n",
       "      <th>Id</th>\n",
       "      <th>MSSubClass</th>\n",
       "      <th>MSZoning</th>\n",
       "      <th>LotFrontage</th>\n",
       "      <th>LotArea</th>\n",
       "      <th>Street</th>\n",
       "      <th>Alley</th>\n",
       "      <th>LotShape</th>\n",
       "      <th>LandContour</th>\n",
       "      <th>Utilities</th>\n",
       "      <th>...</th>\n",
       "      <th>PoolArea</th>\n",
       "      <th>PoolQC</th>\n",
       "      <th>Fence</th>\n",
       "      <th>MiscFeature</th>\n",
       "      <th>MiscVal</th>\n",
       "      <th>MoSold</th>\n",
       "      <th>YrSold</th>\n",
       "      <th>SaleType</th>\n",
       "      <th>SaleCondition</th>\n",
       "      <th>SalePrice</th>\n",
       "    </tr>\n",
       "  </thead>\n",
       "  <tbody>\n",
       "    <tr>\n",
       "      <th>0</th>\n",
       "      <td>1</td>\n",
       "      <td>60</td>\n",
       "      <td>RL</td>\n",
       "      <td>65.0</td>\n",
       "      <td>8450</td>\n",
       "      <td>Pave</td>\n",
       "      <td>NaN</td>\n",
       "      <td>Reg</td>\n",
       "      <td>Lvl</td>\n",
       "      <td>AllPub</td>\n",
       "      <td>...</td>\n",
       "      <td>0</td>\n",
       "      <td>NaN</td>\n",
       "      <td>NaN</td>\n",
       "      <td>NaN</td>\n",
       "      <td>0</td>\n",
       "      <td>2</td>\n",
       "      <td>2008</td>\n",
       "      <td>WD</td>\n",
       "      <td>Normal</td>\n",
       "      <td>208500</td>\n",
       "    </tr>\n",
       "    <tr>\n",
       "      <th>1</th>\n",
       "      <td>2</td>\n",
       "      <td>20</td>\n",
       "      <td>RL</td>\n",
       "      <td>80.0</td>\n",
       "      <td>9600</td>\n",
       "      <td>Pave</td>\n",
       "      <td>NaN</td>\n",
       "      <td>Reg</td>\n",
       "      <td>Lvl</td>\n",
       "      <td>AllPub</td>\n",
       "      <td>...</td>\n",
       "      <td>0</td>\n",
       "      <td>NaN</td>\n",
       "      <td>NaN</td>\n",
       "      <td>NaN</td>\n",
       "      <td>0</td>\n",
       "      <td>5</td>\n",
       "      <td>2007</td>\n",
       "      <td>WD</td>\n",
       "      <td>Normal</td>\n",
       "      <td>181500</td>\n",
       "    </tr>\n",
       "    <tr>\n",
       "      <th>2</th>\n",
       "      <td>3</td>\n",
       "      <td>60</td>\n",
       "      <td>RL</td>\n",
       "      <td>68.0</td>\n",
       "      <td>11250</td>\n",
       "      <td>Pave</td>\n",
       "      <td>NaN</td>\n",
       "      <td>IR1</td>\n",
       "      <td>Lvl</td>\n",
       "      <td>AllPub</td>\n",
       "      <td>...</td>\n",
       "      <td>0</td>\n",
       "      <td>NaN</td>\n",
       "      <td>NaN</td>\n",
       "      <td>NaN</td>\n",
       "      <td>0</td>\n",
       "      <td>9</td>\n",
       "      <td>2008</td>\n",
       "      <td>WD</td>\n",
       "      <td>Normal</td>\n",
       "      <td>223500</td>\n",
       "    </tr>\n",
       "    <tr>\n",
       "      <th>3</th>\n",
       "      <td>4</td>\n",
       "      <td>70</td>\n",
       "      <td>RL</td>\n",
       "      <td>60.0</td>\n",
       "      <td>9550</td>\n",
       "      <td>Pave</td>\n",
       "      <td>NaN</td>\n",
       "      <td>IR1</td>\n",
       "      <td>Lvl</td>\n",
       "      <td>AllPub</td>\n",
       "      <td>...</td>\n",
       "      <td>0</td>\n",
       "      <td>NaN</td>\n",
       "      <td>NaN</td>\n",
       "      <td>NaN</td>\n",
       "      <td>0</td>\n",
       "      <td>2</td>\n",
       "      <td>2006</td>\n",
       "      <td>WD</td>\n",
       "      <td>Abnorml</td>\n",
       "      <td>140000</td>\n",
       "    </tr>\n",
       "    <tr>\n",
       "      <th>4</th>\n",
       "      <td>5</td>\n",
       "      <td>60</td>\n",
       "      <td>RL</td>\n",
       "      <td>84.0</td>\n",
       "      <td>14260</td>\n",
       "      <td>Pave</td>\n",
       "      <td>NaN</td>\n",
       "      <td>IR1</td>\n",
       "      <td>Lvl</td>\n",
       "      <td>AllPub</td>\n",
       "      <td>...</td>\n",
       "      <td>0</td>\n",
       "      <td>NaN</td>\n",
       "      <td>NaN</td>\n",
       "      <td>NaN</td>\n",
       "      <td>0</td>\n",
       "      <td>12</td>\n",
       "      <td>2008</td>\n",
       "      <td>WD</td>\n",
       "      <td>Normal</td>\n",
       "      <td>250000</td>\n",
       "    </tr>\n",
       "  </tbody>\n",
       "</table>\n",
       "<p>5 rows × 81 columns</p>\n",
       "</div>"
      ],
      "text/plain": [
       "   Id  MSSubClass MSZoning  LotFrontage  LotArea Street Alley LotShape  \\\n",
       "0   1          60       RL         65.0     8450   Pave   NaN      Reg   \n",
       "1   2          20       RL         80.0     9600   Pave   NaN      Reg   \n",
       "2   3          60       RL         68.0    11250   Pave   NaN      IR1   \n",
       "3   4          70       RL         60.0     9550   Pave   NaN      IR1   \n",
       "4   5          60       RL         84.0    14260   Pave   NaN      IR1   \n",
       "\n",
       "  LandContour Utilities  ... PoolArea PoolQC Fence MiscFeature MiscVal MoSold  \\\n",
       "0         Lvl    AllPub  ...        0    NaN   NaN         NaN       0      2   \n",
       "1         Lvl    AllPub  ...        0    NaN   NaN         NaN       0      5   \n",
       "2         Lvl    AllPub  ...        0    NaN   NaN         NaN       0      9   \n",
       "3         Lvl    AllPub  ...        0    NaN   NaN         NaN       0      2   \n",
       "4         Lvl    AllPub  ...        0    NaN   NaN         NaN       0     12   \n",
       "\n",
       "  YrSold  SaleType  SaleCondition  SalePrice  \n",
       "0   2008        WD         Normal     208500  \n",
       "1   2007        WD         Normal     181500  \n",
       "2   2008        WD         Normal     223500  \n",
       "3   2006        WD        Abnorml     140000  \n",
       "4   2008        WD         Normal     250000  \n",
       "\n",
       "[5 rows x 81 columns]"
      ]
     },
     "execution_count": 5,
     "metadata": {},
     "output_type": "execute_result"
    }
   ],
   "source": [
    "data.head(5) #confirms that our data is indeed being imported correctly."
   ]
  },
  {
   "cell_type": "code",
   "execution_count": 6,
   "metadata": {},
   "outputs": [
    {
     "data": {
      "text/plain": [
       "(1460, 81)"
      ]
     },
     "execution_count": 6,
     "metadata": {},
     "output_type": "execute_result"
    }
   ],
   "source": [
    "data.shape"
   ]
  },
  {
   "cell_type": "code",
   "execution_count": 7,
   "metadata": {},
   "outputs": [
    {
     "data": {
      "text/plain": [
       "Index(['Id', 'MSSubClass', 'MSZoning', 'LotFrontage', 'LotArea', 'Street',\n",
       "       'Alley', 'LotShape', 'LandContour', 'Utilities', 'LotConfig',\n",
       "       'LandSlope', 'Neighborhood', 'Condition1', 'Condition2', 'BldgType',\n",
       "       'HouseStyle', 'OverallQual', 'OverallCond', 'YearBuilt', 'YearRemodAdd',\n",
       "       'RoofStyle', 'RoofMatl', 'Exterior1st', 'Exterior2nd', 'MasVnrType',\n",
       "       'MasVnrArea', 'ExterQual', 'ExterCond', 'Foundation', 'BsmtQual',\n",
       "       'BsmtCond', 'BsmtExposure', 'BsmtFinType1', 'BsmtFinSF1',\n",
       "       'BsmtFinType2', 'BsmtFinSF2', 'BsmtUnfSF', 'TotalBsmtSF', 'Heating',\n",
       "       'HeatingQC', 'CentralAir', 'Electrical', '1stFlrSF', '2ndFlrSF',\n",
       "       'LowQualFinSF', 'GrLivArea', 'BsmtFullBath', 'BsmtHalfBath', 'FullBath',\n",
       "       'HalfBath', 'BedroomAbvGr', 'KitchenAbvGr', 'KitchenQual',\n",
       "       'TotRmsAbvGrd', 'Functional', 'Fireplaces', 'FireplaceQu', 'GarageType',\n",
       "       'GarageYrBlt', 'GarageFinish', 'GarageCars', 'GarageArea', 'GarageQual',\n",
       "       'GarageCond', 'PavedDrive', 'WoodDeckSF', 'OpenPorchSF',\n",
       "       'EnclosedPorch', '3SsnPorch', 'ScreenPorch', 'PoolArea', 'PoolQC',\n",
       "       'Fence', 'MiscFeature', 'MiscVal', 'MoSold', 'YrSold', 'SaleType',\n",
       "       'SaleCondition', 'SalePrice'],\n",
       "      dtype='object')"
      ]
     },
     "execution_count": 7,
     "metadata": {},
     "output_type": "execute_result"
    }
   ],
   "source": [
    "data.columns"
   ]
  },
  {
   "cell_type": "code",
   "execution_count": 8,
   "metadata": {},
   "outputs": [],
   "source": [
    "House = data.copy()  #this gives us a new dataframe ot play with without deleting the actual data"
   ]
  },
  {
   "cell_type": "markdown",
   "metadata": {},
   "source": [
    "First we'll note that there are 81 columns, we can drop the ID column as we know it is irrelevant.  Additionally, in order to categorize the variables, we'll make a histogram of the Sale Price."
   ]
  },
  {
   "cell_type": "code",
   "execution_count": 9,
   "metadata": {},
   "outputs": [],
   "source": [
    "House = House.drop('Id', axis = 1)"
   ]
  },
  {
   "cell_type": "code",
   "execution_count": 10,
   "metadata": {},
   "outputs": [
    {
     "data": {
      "image/png": "[encoded data removed]",
      "text/plain": [
       "<Figure size 432x288 with 1 Axes>"
      ]
     },
     "metadata": {
      "needs_background": "light"
     },
     "output_type": "display_data"
    }
   ],
   "source": [
    "bins = np.arange(40)*25000\n",
    "plt.hist(House['SalePrice'], bins = bins)\n",
    "plt.show()\n"
   ]
  },
  {
   "cell_type": "markdown",
   "metadata": {},
   "source": [
    "Using a bin size of \\$25000, we can see a peak at about 150,000 and a long tail after that.  Therefore, in order to improve affordability decisions for whoever may be using this dataset, we will split it into five classes as below:\n",
    "\n",
    "Class 0: Sale Price < 100,000  \n",
    "\n",
    "Class 1: Sale Price 100,000 - 150,000  \n",
    "\n",
    "Class 2: Sale Price 150,000 - 200,000  \n",
    "\n",
    "Class 3: Sale Price 200,000 - 250,000  \n",
    "\n",
    "Class 4: Sale Price > 250,000  \n",
    "\n",
    "This allows us to generalize the classes near the mean while noting outliers so we can take them from our analysis."
   ]
  },
  {
   "cell_type": "code",
   "execution_count": 11,
   "metadata": {},
   "outputs": [],
   "source": [
    "def create_classes(dat, col = 'SalePrice'):#creates a definition that creates a class definition\n",
    "    val = dat[col]\n",
    "    if val < 100000: return 0\n",
    "    elif val <150000: return 1\n",
    "    elif val <200000: return 2\n",
    "    elif val <250000: return 3\n",
    "    else: return 4"
   ]
  },
  {
   "cell_type": "code",
   "execution_count": 12,
   "metadata": {},
   "outputs": [
    {
     "data": {
      "text/plain": [
       "0       3\n",
       "1       2\n",
       "2       3\n",
       "3       1\n",
       "4       4\n",
       "       ..\n",
       "1455    2\n",
       "1456    3\n",
       "1457    4\n",
       "1458    1\n",
       "1459    1\n",
       "Length: 1460, dtype: int64"
      ]
     },
     "execution_count": 12,
     "metadata": {},
     "output_type": "execute_result"
    }
   ],
   "source": [
    "House.apply(create_classes, axis = 1)"
   ]
  },
  {
   "cell_type": "code",
   "execution_count": 13,
   "metadata": {},
   "outputs": [],
   "source": [
    "House['SaleClass']= House.apply(create_classes, axis = 1)"
   ]
  },
  {
   "cell_type": "code",
   "execution_count": 14,
   "metadata": {},
   "outputs": [
    {
     "data": {
      "text/html": [
       "<div>\n",
       "<style scoped>\n",
       "    .dataframe tbody tr th:only-of-type {\n",
       "        vertical-align: middle;\n",
       "    }\n",
       "\n",
       "    .dataframe tbody tr th {\n",
       "        vertical-align: top;\n",
       "    }\n",
       "\n",
       "    .dataframe thead th {\n",
       "        text-align: right;\n",
       "    }\n",
       "</style>\n",
       "<table border=\"1\" class=\"dataframe\">\n",
       "  <thead>\n",
       "    <tr style=\"text-align: right;\">\n",
       "      <th></th>\n",
       "      <th>MSSubClass</th>\n",
       "      <th>MSZoning</th>\n",
       "      <th>LotFrontage</th>\n",
       "      <th>LotArea</th>\n",
       "      <th>Street</th>\n",
       "      <th>Alley</th>\n",
       "      <th>LotShape</th>\n",
       "      <th>LandContour</th>\n",
       "      <th>Utilities</th>\n",
       "      <th>LotConfig</th>\n",
       "      <th>...</th>\n",
       "      <th>PoolQC</th>\n",
       "      <th>Fence</th>\n",
       "      <th>MiscFeature</th>\n",
       "      <th>MiscVal</th>\n",
       "      <th>MoSold</th>\n",
       "      <th>YrSold</th>\n",
       "      <th>SaleType</th>\n",
       "      <th>SaleCondition</th>\n",
       "      <th>SalePrice</th>\n",
       "      <th>SaleClass</th>\n",
       "    </tr>\n",
       "  </thead>\n",
       "  <tbody>\n",
       "    <tr>\n",
       "      <th>0</th>\n",
       "      <td>60</td>\n",
       "      <td>RL</td>\n",
       "      <td>65.0</td>\n",
       "      <td>8450</td>\n",
       "      <td>Pave</td>\n",
       "      <td>NaN</td>\n",
       "      <td>Reg</td>\n",
       "      <td>Lvl</td>\n",
       "      <td>AllPub</td>\n",
       "      <td>Inside</td>\n",
       "      <td>...</td>\n",
       "      <td>NaN</td>\n",
       "      <td>NaN</td>\n",
       "      <td>NaN</td>\n",
       "      <td>0</td>\n",
       "      <td>2</td>\n",
       "      <td>2008</td>\n",
       "      <td>WD</td>\n",
       "      <td>Normal</td>\n",
       "      <td>208500</td>\n",
       "      <td>3</td>\n",
       "    </tr>\n",
       "    <tr>\n",
       "      <th>1</th>\n",
       "      <td>20</td>\n",
       "      <td>RL</td>\n",
       "      <td>80.0</td>\n",
       "      <td>9600</td>\n",
       "      <td>Pave</td>\n",
       "      <td>NaN</td>\n",
       "      <td>Reg</td>\n",
       "      <td>Lvl</td>\n",
       "      <td>AllPub</td>\n",
       "      <td>FR2</td>\n",
       "      <td>...</td>\n",
       "      <td>NaN</td>\n",
       "      <td>NaN</td>\n",
       "      <td>NaN</td>\n",
       "      <td>0</td>\n",
       "      <td>5</td>\n",
       "      <td>2007</td>\n",
       "      <td>WD</td>\n",
       "      <td>Normal</td>\n",
       "      <td>181500</td>\n",
       "      <td>2</td>\n",
       "    </tr>\n",
       "    <tr>\n",
       "      <th>2</th>\n",
       "      <td>60</td>\n",
       "      <td>RL</td>\n",
       "      <td>68.0</td>\n",
       "      <td>11250</td>\n",
       "      <td>Pave</td>\n",
       "      <td>NaN</td>\n",
       "      <td>IR1</td>\n",
       "      <td>Lvl</td>\n",
       "      <td>AllPub</td>\n",
       "      <td>Inside</td>\n",
       "      <td>...</td>\n",
       "      <td>NaN</td>\n",
       "      <td>NaN</td>\n",
       "      <td>NaN</td>\n",
       "      <td>0</td>\n",
       "      <td>9</td>\n",
       "      <td>2008</td>\n",
       "      <td>WD</td>\n",
       "      <td>Normal</td>\n",
       "      <td>223500</td>\n",
       "      <td>3</td>\n",
       "    </tr>\n",
       "    <tr>\n",
       "      <th>3</th>\n",
       "      <td>70</td>\n",
       "      <td>RL</td>\n",
       "      <td>60.0</td>\n",
       "      <td>9550</td>\n",
       "      <td>Pave</td>\n",
       "      <td>NaN</td>\n",
       "      <td>IR1</td>\n",
       "      <td>Lvl</td>\n",
       "      <td>AllPub</td>\n",
       "      <td>Corner</td>\n",
       "      <td>...</td>\n",
       "      <td>NaN</td>\n",
       "      <td>NaN</td>\n",
       "      <td>NaN</td>\n",
       "      <td>0</td>\n",
       "      <td>2</td>\n",
       "      <td>2006</td>\n",
       "      <td>WD</td>\n",
       "      <td>Abnorml</td>\n",
       "      <td>140000</td>\n",
       "      <td>1</td>\n",
       "    </tr>\n",
       "    <tr>\n",
       "      <th>4</th>\n",
       "      <td>60</td>\n",
       "      <td>RL</td>\n",
       "      <td>84.0</td>\n",
       "      <td>14260</td>\n",
       "      <td>Pave</td>\n",
       "      <td>NaN</td>\n",
       "      <td>IR1</td>\n",
       "      <td>Lvl</td>\n",
       "      <td>AllPub</td>\n",
       "      <td>FR2</td>\n",
       "      <td>...</td>\n",
       "      <td>NaN</td>\n",
       "      <td>NaN</td>\n",
       "      <td>NaN</td>\n",
       "      <td>0</td>\n",
       "      <td>12</td>\n",
       "      <td>2008</td>\n",
       "      <td>WD</td>\n",
       "      <td>Normal</td>\n",
       "      <td>250000</td>\n",
       "      <td>4</td>\n",
       "    </tr>\n",
       "  </tbody>\n",
       "</table>\n",
       "<p>5 rows × 81 columns</p>\n",
       "</div>"
      ],
      "text/plain": [
       "   MSSubClass MSZoning  LotFrontage  LotArea Street Alley LotShape  \\\n",
       "0          60       RL         65.0     8450   Pave   NaN      Reg   \n",
       "1          20       RL         80.0     9600   Pave   NaN      Reg   \n",
       "2          60       RL         68.0    11250   Pave   NaN      IR1   \n",
       "3          70       RL         60.0     9550   Pave   NaN      IR1   \n",
       "4          60       RL         84.0    14260   Pave   NaN      IR1   \n",
       "\n",
       "  LandContour Utilities LotConfig  ... PoolQC Fence MiscFeature MiscVal  \\\n",
       "0         Lvl    AllPub    Inside  ...    NaN   NaN         NaN       0   \n",
       "1         Lvl    AllPub       FR2  ...    NaN   NaN         NaN       0   \n",
       "2         Lvl    AllPub    Inside  ...    NaN   NaN         NaN       0   \n",
       "3         Lvl    AllPub    Corner  ...    NaN   NaN         NaN       0   \n",
       "4         Lvl    AllPub       FR2  ...    NaN   NaN         NaN       0   \n",
       "\n",
       "  MoSold YrSold  SaleType  SaleCondition  SalePrice  SaleClass  \n",
       "0      2   2008        WD         Normal     208500          3  \n",
       "1      5   2007        WD         Normal     181500          2  \n",
       "2      9   2008        WD         Normal     223500          3  \n",
       "3      2   2006        WD        Abnorml     140000          1  \n",
       "4     12   2008        WD         Normal     250000          4  \n",
       "\n",
       "[5 rows x 81 columns]"
      ]
     },
     "execution_count": 14,
     "metadata": {},
     "output_type": "execute_result"
    }
   ],
   "source": [
    "House.head()"
   ]
  },
  {
   "cell_type": "markdown",
   "metadata": {},
   "source": [
    "Next, in order to test the accuracy of our dataset (as our testing set does not have sale prices), we will randomly choose 25% of our dataset to turn into a validations dataset.  We will have to choose this randomly"
   ]
  },
  {
   "cell_type": "code",
   "execution_count": 15,
   "metadata": {},
   "outputs": [],
   "source": [
    "replace_index = np.random.choice(len(House), size = int(len(House)/4), replace = False)"
   ]
  },
  {
   "cell_type": "code",
   "execution_count": 16,
   "metadata": {},
   "outputs": [],
   "source": [
    "Houseval = House.iloc[replace_index]"
   ]
  },
  {
   "cell_type": "code",
   "execution_count": 17,
   "metadata": {},
   "outputs": [],
   "source": [
    "Housetrain= House.drop(replace_index)"
   ]
  },
  {
   "cell_type": "code",
   "execution_count": 18,
   "metadata": {},
   "outputs": [
    {
     "data": {
      "text/plain": [
       "(365, 81)"
      ]
     },
     "execution_count": 18,
     "metadata": {},
     "output_type": "execute_result"
    }
   ],
   "source": [
    "Houseval.shape"
   ]
  },
  {
   "cell_type": "code",
   "execution_count": 19,
   "metadata": {},
   "outputs": [
    {
     "data": {
      "text/plain": [
       "(1095, 81)"
      ]
     },
     "execution_count": 19,
     "metadata": {},
     "output_type": "execute_result"
    }
   ],
   "source": [
    "Housetrain.shape"
   ]
  },
  {
   "cell_type": "markdown",
   "metadata": {},
   "source": [
    "In order to test our values, we will reduce rows to only those which contain values where order matters (as opposed to subclasses or zoning values where quality is not obvious), additionally, we will convert years values to years since sold/years since remodels. Note that in the future we will want to create dummy variables for some of the categorical variables and determine which functions are more likely to impact the final sale price using correlations.  Note that variables where the values matter but are somewhat categorical (like overall value which much be an integer), we will keep, but those which are only given cateogries (such as basement finish area rating) we will ignore.  We will also drop those values dependent on cateogries we drop (such as amount of Basement finish area created.\n",
    "\n",
    "For these values, we will replace any unknown values with 0.  The exception to this being the years built values, which we will replace with the maximum after conversion.  We will also convert month and year sold to months since December 2010 (since Jan 2006 is likely closer to March of 2006 than Jan of 2010\n",
    "\n",
    "This will leave us with the following rows for identification:\n",
    "\n",
    "- LotFrontage\n",
    "- LotArea\n",
    "- OverallQual\n",
    "- OverallCond\n",
    "- YearBuilt (converted to years since built, using 2010 as a base year as that's when the dataset was created)\n",
    "- YearRemodAdd (converted to years before 2010)\n",
    "- MasVnrArea\n",
    "- BsmtUnfSF\n",
    "- TotalBsmtSF\n",
    "- 1stFlrSF\n",
    "- 2ndFlrSF\n",
    "- LowQualFinSF\n",
    "- GrLivArea\n",
    "- BsmtFullBath\n",
    "- BsmtHalfBath\n",
    "- FullBath\n",
    "- HalfBath\n",
    "- BedroomAbvGr\n",
    "- KitchenAbvGr\n",
    "- TotRmsAbvGrd\n",
    "- Fireplaces\n",
    "- GarageYrBlt (converted to years before 2010)\n",
    "- GarageCars\n",
    "- GarageArea\n",
    "- WoodDeckSF\n",
    "- OpenPorchSF\n",
    "- EnclosedPorch\n",
    "- 3SsnPorch\n",
    "- ScreenPorch\n",
    "- PoolArea\n",
    "- MiscVal\n",
    "- MoSold\n",
    "- YrSold"
   ]
  },
  {
   "cell_type": "code",
   "execution_count": 20,
   "metadata": {},
   "outputs": [],
   "source": [
    "cats = ['LotFrontage', 'LotArea', 'OverallQual', 'OverallCond', 'YearBuilt', 'YearRemodAdd', 'MasVnrArea', 'BsmtUnfSF',\n",
    "       'TotalBsmtSF', '1stFlrSF', '2ndFlrSF', 'LowQualFinSF', 'GrLivArea', 'BsmtFullBath', 'BsmtHalfBath', 'FullBath',\n",
    "       'HalfBath', 'BedroomAbvGr', 'KitchenAbvGr', 'TotRmsAbvGrd', 'Fireplaces', 'GarageYrBlt', 'GarageCars', 'GarageArea',\n",
    "       'WoodDeckSF', 'OpenPorchSF', 'EnclosedPorch','3SsnPorch', 'ScreenPorch', 'PoolArea', 'MiscVal', 'MoSold', 'YrSold']\n",
    "target = 'SaleClass'"
   ]
  },
  {
   "cell_type": "code",
   "execution_count": 21,
   "metadata": {},
   "outputs": [
    {
     "data": {
      "text/plain": [
       "LotFrontage      200\n",
       "LotArea            0\n",
       "OverallQual        0\n",
       "OverallCond        0\n",
       "YearBuilt          0\n",
       "YearRemodAdd       0\n",
       "MasVnrArea         7\n",
       "BsmtUnfSF          0\n",
       "TotalBsmtSF        0\n",
       "1stFlrSF           0\n",
       "2ndFlrSF           0\n",
       "LowQualFinSF       0\n",
       "GrLivArea          0\n",
       "BsmtFullBath       0\n",
       "BsmtHalfBath       0\n",
       "FullBath           0\n",
       "HalfBath           0\n",
       "BedroomAbvGr       0\n",
       "KitchenAbvGr       0\n",
       "TotRmsAbvGrd       0\n",
       "Fireplaces         0\n",
       "GarageYrBlt       54\n",
       "GarageCars         0\n",
       "GarageArea         0\n",
       "WoodDeckSF         0\n",
       "OpenPorchSF        0\n",
       "EnclosedPorch      0\n",
       "3SsnPorch          0\n",
       "ScreenPorch        0\n",
       "PoolArea           0\n",
       "MiscVal            0\n",
       "MoSold             0\n",
       "YrSold             0\n",
       "dtype: int64"
      ]
     },
     "execution_count": 21,
     "metadata": {},
     "output_type": "execute_result"
    }
   ],
   "source": [
    "Housetrain[cats].isnull().sum()"
   ]
  },
  {
   "cell_type": "code",
   "execution_count": 22,
   "metadata": {},
   "outputs": [
    {
     "data": {
      "text/plain": [
       "LotFrontage      59\n",
       "LotArea           0\n",
       "OverallQual       0\n",
       "OverallCond       0\n",
       "YearBuilt         0\n",
       "YearRemodAdd      0\n",
       "MasVnrArea        1\n",
       "BsmtUnfSF         0\n",
       "TotalBsmtSF       0\n",
       "1stFlrSF          0\n",
       "2ndFlrSF          0\n",
       "LowQualFinSF      0\n",
       "GrLivArea         0\n",
       "BsmtFullBath      0\n",
       "BsmtHalfBath      0\n",
       "FullBath          0\n",
       "HalfBath          0\n",
       "BedroomAbvGr      0\n",
       "KitchenAbvGr      0\n",
       "TotRmsAbvGrd      0\n",
       "Fireplaces        0\n",
       "GarageYrBlt      27\n",
       "GarageCars        0\n",
       "GarageArea        0\n",
       "WoodDeckSF        0\n",
       "OpenPorchSF       0\n",
       "EnclosedPorch     0\n",
       "3SsnPorch         0\n",
       "ScreenPorch       0\n",
       "PoolArea          0\n",
       "MiscVal           0\n",
       "MoSold            0\n",
       "YrSold            0\n",
       "dtype: int64"
      ]
     },
     "execution_count": 22,
     "metadata": {},
     "output_type": "execute_result"
    }
   ],
   "source": [
    "Houseval[cats].isnull().sum()"
   ]
  },
  {
   "cell_type": "markdown",
   "metadata": {},
   "source": [
    "Fortunately we see there are only null values in 3 columsn.  Lot Frontage and MasVnrArea we can easily replace with 0.  GarageYrBuilt is likely referring to houses without garages, we will replace those with the minimum of our training set (not validation set) year built, then convert our year values.  We'll also note that houses that weren't remodeled have the most recent year remodel addition as the same as the year they were built."
   ]
  },
  {
   "cell_type": "code",
   "execution_count": 23,
   "metadata": {},
   "outputs": [],
   "source": [
    "traintarget = Housetrain[target]\n",
    "valtarget = Houseval[target]\n",
    "Housetrain = Housetrain[cats]\n",
    "Houseval = Houseval[cats]"
   ]
  },
  {
   "cell_type": "code",
   "execution_count": 24,
   "metadata": {},
   "outputs": [],
   "source": [
    "Housetrain['HouseAge']=2010 - Housetrain['YearBuilt']\n",
    "Houseval['HouseAge'] = 2010 - Houseval['YearBuilt']\n",
    "Housetrain.drop('YearBuilt', axis =1, inplace = True)\n",
    "Houseval.drop('YearBuilt', axis = 1, inplace = True)"
   ]
  },
  {
   "cell_type": "code",
   "execution_count": 25,
   "metadata": {},
   "outputs": [],
   "source": [
    "Housetrain['RemodAge']=2010 - Housetrain['YearRemodAdd']\n",
    "Houseval['RemodAge'] = 2010 - Houseval['YearRemodAdd']\n",
    "Housetrain.drop('YearRemodAdd', axis =1, inplace = True)\n",
    "Houseval.drop('YearRemodAdd', axis = 1, inplace = True)"
   ]
  },
  {
   "cell_type": "code",
   "execution_count": 26,
   "metadata": {},
   "outputs": [],
   "source": [
    "fillvals = {'LotFrontage': 0, 'MasVnrArea': 0, 'GarageYrBlt': min(Housetrain['GarageYrBlt'])}  #creates fill values"
   ]
  },
  {
   "cell_type": "code",
   "execution_count": 27,
   "metadata": {},
   "outputs": [],
   "source": [
    "Housetrain.fillna(value = fillvals, inplace = True)\n",
    "Houseval.fillna(value = fillvals, inplace = True)"
   ]
  },
  {
   "cell_type": "code",
   "execution_count": 28,
   "metadata": {},
   "outputs": [
    {
     "data": {
      "text/plain": [
       "0"
      ]
     },
     "execution_count": 28,
     "metadata": {},
     "output_type": "execute_result"
    }
   ],
   "source": [
    "Housetrain.isnull().sum().sum()"
   ]
  },
  {
   "cell_type": "code",
   "execution_count": 29,
   "metadata": {},
   "outputs": [
    {
     "data": {
      "text/plain": [
       "0"
      ]
     },
     "execution_count": 29,
     "metadata": {},
     "output_type": "execute_result"
    }
   ],
   "source": [
    "Houseval.isnull().sum().sum()"
   ]
  },
  {
   "cell_type": "code",
   "execution_count": 30,
   "metadata": {},
   "outputs": [],
   "source": [
    "Housetrain['GarageAge']=2010 - Housetrain['GarageYrBlt']\n",
    "Houseval['GarageAge'] = 2010 - Houseval['GarageYrBlt']\n",
    "Housetrain.drop('GarageYrBlt', axis =1, inplace = True)\n",
    "Houseval.drop('GarageYrBlt', axis = 1, inplace = True)"
   ]
  },
  {
   "cell_type": "code",
   "execution_count": 31,
   "metadata": {},
   "outputs": [],
   "source": [
    "Housetrain['MonthsSold']= 12*(2010 - Housetrain['YrSold'])+(12-Housetrain['MoSold'])\n",
    "Houseval['MonthsSold']= 12*(2010 - Houseval['YrSold'])+(12-Houseval['MoSold'])\n",
    "Housetrain.drop(['YrSold', 'MoSold'], axis = 1, inplace = True)\n",
    "Houseval.drop(['YrSold', 'MoSold'], axis = 1, inplace = True)"
   ]
  },
  {
   "cell_type": "code",
   "execution_count": 32,
   "metadata": {},
   "outputs": [
    {
     "data": {
      "text/plain": [
       "32"
      ]
     },
     "execution_count": 32,
     "metadata": {},
     "output_type": "execute_result"
    }
   ],
   "source": [
    "len(Housetrain.columns)"
   ]
  },
  {
   "cell_type": "markdown",
   "metadata": {},
   "source": [
    "We now have a 32 dimensional DataFrame with 5 classes and one target.  We will attempt to apply MPP (with Gaussian and Mahalanobis distance, Case 3 leads to a singular matrix error), and knn  (k = 100) on our training set and use the results on our testing set to determine accuracy.  As the data was simply cleaned without relevance, we'd expect relatively low accuracy right now.  Note that random choice accuracy will be 20%.  We will also take the probability from our training set to determine the prior probabilities (since they're clearly not equal)"
   ]
  },
  {
   "cell_type": "code",
   "execution_count": 33,
   "metadata": {},
   "outputs": [],
   "source": [
    "probs = []\n",
    "for val in np.unique(traintarget):\n",
    "    prob = sum(traintarget == val)/len(traintarget)\n",
    "    probs.append(prob)"
   ]
  },
  {
   "cell_type": "code",
   "execution_count": 34,
   "metadata": {},
   "outputs": [
    {
     "data": {
      "text/plain": [
       "[0.0730593607305936,\n",
       " 0.3415525114155251,\n",
       " 0.27671232876712326,\n",
       " 0.15159817351598173,\n",
       " 0.15707762557077626]"
      ]
     },
     "execution_count": 34,
     "metadata": {},
     "output_type": "execute_result"
    }
   ],
   "source": [
    "probs"
   ]
  },
  {
   "cell_type": "code",
   "execution_count": 35,
   "metadata": {},
   "outputs": [
    {
     "name": "stdout",
     "output_type": "stream",
     "text": [
      "Sample 0: label is 2.0\n",
      "Sample 100: label is 1.0\n",
      "Sample 200: label is 1.0\n",
      "Sample 300: label is 1.0\n"
     ]
    }
   ],
   "source": [
    "ts = time.time()\n",
    "ValMPP1 = mylearn.mpp(np.array(Housetrain), np.array(traintarget), np.array(Houseval), 1, probs)\n",
    "tMPP1 = time.time() - ts"
   ]
  },
  {
   "cell_type": "code",
   "execution_count": 36,
   "metadata": {
    "scrolled": true
   },
   "outputs": [
    {
     "name": "stdout",
     "output_type": "stream",
     "text": [
      "Sample 0: label is 2.0\n",
      "Sample 100: label is 2.0\n",
      "Sample 200: label is 2.0\n",
      "Sample 300: label is 1.0\n"
     ]
    }
   ],
   "source": [
    "ts = time.time()\n",
    "ValMPP2 = mylearn.mpp(np.array(Housetrain), np.array(traintarget), np.array(Houseval), 2, probs)\n",
    "tMPP2 = time.time() - ts"
   ]
  },
  {
   "cell_type": "code",
   "execution_count": 37,
   "metadata": {},
   "outputs": [
    {
     "name": "stdout",
     "output_type": "stream",
     "text": [
      "Sample 0: label is 2.0\n",
      "Sample 100: label is 2.0\n",
      "Sample 200: label is 2.0\n",
      "Sample 300: label is 1.0\n"
     ]
    }
   ],
   "source": [
    "ts = time.time()\n",
    "ValKNN = mylearn.knn(np.array(Housetrain), np.array(traintarget), np.array(Houseval), 100)\n",
    "tKNN = time.time() - ts"
   ]
  },
  {
   "cell_type": "code",
   "execution_count": 38,
   "metadata": {},
   "outputs": [],
   "source": [
    "MPP1ClassAcc, MPP1OvAcc = util.accuracy_score(np.array(valtarget), ValMPP1) \n",
    "MPP2ClassAcc, MPP2OvAcc = util.accuracy_score(np.array(valtarget), ValMPP2) \n",
    "KNNClassAcc, KNNOvAcc = util.accuracy_score(np.array(valtarget), ValKNN)"
   ]
  },
  {
   "cell_type": "code",
   "execution_count": 39,
   "metadata": {},
   "outputs": [
    {
     "name": "stdout",
     "output_type": "stream",
     "text": [
      "MPP (Case 1) accuracy for Class 0 = 0.0.\n",
      "MPP (Case 2) accuracy for Class 0 = 0.6764705882352942.\n",
      "KNN accuracy for Class 0 = 0.0.\n",
      "MPP (Case 1) accuracy for Class 1 = 0.937007874015748.\n",
      "MPP (Case 2) accuracy for Class 1 = 0.8031496062992126.\n",
      "KNN accuracy for Class 1 = 0.7716535433070866.\n",
      "MPP (Case 1) accuracy for Class 2 = 0.09345794392523364.\n",
      "MPP (Case 2) accuracy for Class 2 = 0.719626168224299.\n",
      "KNN accuracy for Class 2 = 0.40186915887850466.\n",
      "MPP (Case 1) accuracy for Class 3 = 0.0.\n",
      "MPP (Case 2) accuracy for Class 3 = 0.4090909090909091.\n",
      "KNN accuracy for Class 3 = 0.022727272727272728.\n",
      "MPP (Case 1) accuracy for Class 4 = 0.16981132075471697.\n",
      "MPP (Case 2) accuracy for Class 4 = 0.7924528301886793.\n",
      "KNN accuracy for Class 4 = 0.6226415094339622.\n",
      "Overall Accuracy for for MPP (Case 1) is 0.3780821917808219\n",
      "Overall Accuracy for for MPP (Case 2) is 0.7178082191780822\n",
      "Overall Accuracy for for KNN is 0.4794520547945205\n",
      "Training time for MPP (Case 1) is 0.037384033203125\n",
      "Training time for MPP (Case 2) is 0.037384033203125\n",
      "Training time for KNN is 0.12115025520324707\n"
     ]
    }
   ],
   "source": [
    "for val in np.unique(traintarget):\n",
    "    print(f'MPP (Case 1) accuracy for Class {val} = {MPP1ClassAcc[val]}.')\n",
    "    print(f'MPP (Case 2) accuracy for Class {val} = {MPP2ClassAcc[val]}.')\n",
    "    print(f'KNN accuracy for Class {val} = {KNNClassAcc[val]}.')\n",
    "print(f'Overall Accuracy for for MPP (Case 1) is {MPP1OvAcc}')\n",
    "print(f'Overall Accuracy for for MPP (Case 2) is {MPP2OvAcc}')\n",
    "print(f'Overall Accuracy for for KNN is {KNNOvAcc}')\n",
    "print(f'Training time for MPP (Case 1) is {tMPP1}')\n",
    "print(f'Training time for MPP (Case 2) is {tMPP1}')\n",
    "print(f'Training time for KNN is {tKNN}')"
   ]
  },
  {
   "cell_type": "markdown",
   "metadata": {},
   "source": [
    "We'll note that the Euclidean and Mahalanobis distances in this case gave us the exact same decisions in this case, showing that many of the items may truly be unrelated.  We'll note that distance from the mean seemed to be an ok discriminator with near 80% accuracy on a 5 class set while KNN did quite poorly.  We'll also note that KNN seemed to favor classes 1 and 4 while not even identifying any house as class 0 and identifying very few as class 3.  This may be an issue with our categorization that we don't see in the others.  Notably, MPP did the best with these classes as well (though of course showed much better results in the clases for which it faired poorly."
   ]
  },
  {
   "cell_type": "code",
   "execution_count": 40,
   "metadata": {
    "scrolled": true
   },
   "outputs": [
    {
     "data": {
      "text/plain": [
       "[<matplotlib.lines.Line2D at 0x117521910>]"
      ]
     },
     "execution_count": 40,
     "metadata": {},
     "output_type": "execute_result"
    },
    {
     "data": {
      "image/png": "[encoded data removed]",
      "text/plain": [
       "<Figure size 432x288 with 1 Axes>"
      ]
     },
     "metadata": {
      "needs_background": "light"
     },
     "output_type": "display_data"
    }
   ],
   "source": [
    "# find the best k\n",
    "accs = []\n",
    "for k in range(1, 100):\n",
    "    ValKNN = mylearn.knn(np.array(Housetrain), np.array(traintarget), np.array(Houseval), k, output=False)\n",
    "    _, KNNOvAcc = util.accuracy_score(np.array(valtarget), ValKNN)\n",
    "    accs.append(KNNOvAcc)\n",
    "plt.plot(accs)"
   ]
  },
  {
   "cell_type": "markdown",
   "metadata": {},
   "source": [
    "The best k is roughly 8."
   ]
  },
  {
   "cell_type": "code",
   "execution_count": 41,
   "metadata": {},
   "outputs": [
    {
     "name": "stdout",
     "output_type": "stream",
     "text": [
      "Sample 0: label is 2.0\n",
      "Sample 100: label is 3.0\n",
      "Sample 200: label is 2.0\n",
      "Sample 300: label is 2.0\n",
      "KNN accuracy for Class 0 = 0.2647058823529412.\n",
      "KNN accuracy for Class 1 = 0.6929133858267716.\n",
      "KNN accuracy for Class 2 = 0.7383177570093458.\n",
      "KNN accuracy for Class 3 = 0.29545454545454547.\n",
      "KNN accuracy for Class 4 = 0.6792452830188679.\n",
      "Overall Accuracy for for KNN is 0.6164383561643836\n",
      "Training time for KNN is 0.11496329307556152\n"
     ]
    }
   ],
   "source": [
    "ts = time.time()\n",
    "ValKNN = mylearn.knn(np.array(Housetrain), np.array(traintarget), np.array(Houseval), 8)\n",
    "tKNN = time.time() - ts\n",
    "KNNClassAcc, KNNOvAcc = util.accuracy_score(np.array(valtarget), ValKNN) \n",
    "for val in np.unique(traintarget):\n",
    "    print(f'KNN accuracy for Class {val} = {KNNClassAcc[val]}.')\n",
    "print(f'Overall Accuracy for for KNN is {KNNOvAcc}')\n",
    "print(f'Training time for KNN is {tKNN}')"
   ]
  },
  {
   "cell_type": "markdown",
   "metadata": {},
   "source": [
    "# bin with same width vs. bin with same quantity"
   ]
  },
  {
   "cell_type": "markdown",
   "metadata": {},
   "source": [
    "Instead of just using bins with equivalent widthes, we would also like to know what if we use bins that contains the same number of samples. The \"quarter1\" below is 0.2 quantile. \"Quarter2\" is 0.4 quantile ... "
   ]
  },
  {
   "cell_type": "code",
   "execution_count": 42,
   "metadata": {},
   "outputs": [],
   "source": [
    "quarter1, quarter2, quarter3, quarter4 = House.SalePrice.quantile([0.2, 0.4, 0.6, 0.8]) \n",
    "\n",
    "def create_classes_same_quantity(dat, col = 'SalePrice'):#creates a definition that creates a class definition\n",
    "    val = dat[col]\n",
    "    if val < quarter1: return 0\n",
    "    elif val < quarter2: return 1\n",
    "    elif val < quarter3: return 2\n",
    "    elif val < quarter4: return 3\n",
    "    else: return 4\n",
    "    \n",
    "House['SaleClass2'] = House.apply(create_classes_same_quantity, axis = 1)"
   ]
  },
  {
   "cell_type": "code",
   "execution_count": 43,
   "metadata": {},
   "outputs": [
    {
     "data": {
      "text/html": [
       "<div>\n",
       "<style scoped>\n",
       "    .dataframe tbody tr th:only-of-type {\n",
       "        vertical-align: middle;\n",
       "    }\n",
       "\n",
       "    .dataframe tbody tr th {\n",
       "        vertical-align: top;\n",
       "    }\n",
       "\n",
       "    .dataframe thead th {\n",
       "        text-align: right;\n",
       "    }\n",
       "</style>\n",
       "<table border=\"1\" class=\"dataframe\">\n",
       "  <thead>\n",
       "    <tr style=\"text-align: right;\">\n",
       "      <th></th>\n",
       "      <th>MSSubClass</th>\n",
       "      <th>MSZoning</th>\n",
       "      <th>LotFrontage</th>\n",
       "      <th>LotArea</th>\n",
       "      <th>Street</th>\n",
       "      <th>Alley</th>\n",
       "      <th>LotShape</th>\n",
       "      <th>LandContour</th>\n",
       "      <th>Utilities</th>\n",
       "      <th>LotConfig</th>\n",
       "      <th>...</th>\n",
       "      <th>Fence</th>\n",
       "      <th>MiscFeature</th>\n",
       "      <th>MiscVal</th>\n",
       "      <th>MoSold</th>\n",
       "      <th>YrSold</th>\n",
       "      <th>SaleType</th>\n",
       "      <th>SaleCondition</th>\n",
       "      <th>SalePrice</th>\n",
       "      <th>SaleClass</th>\n",
       "      <th>SaleClass2</th>\n",
       "    </tr>\n",
       "  </thead>\n",
       "  <tbody>\n",
       "    <tr>\n",
       "      <th>0</th>\n",
       "      <td>60</td>\n",
       "      <td>RL</td>\n",
       "      <td>65.0</td>\n",
       "      <td>8450</td>\n",
       "      <td>Pave</td>\n",
       "      <td>NaN</td>\n",
       "      <td>Reg</td>\n",
       "      <td>Lvl</td>\n",
       "      <td>AllPub</td>\n",
       "      <td>Inside</td>\n",
       "      <td>...</td>\n",
       "      <td>NaN</td>\n",
       "      <td>NaN</td>\n",
       "      <td>0</td>\n",
       "      <td>2</td>\n",
       "      <td>2008</td>\n",
       "      <td>WD</td>\n",
       "      <td>Normal</td>\n",
       "      <td>208500</td>\n",
       "      <td>3</td>\n",
       "      <td>3</td>\n",
       "    </tr>\n",
       "    <tr>\n",
       "      <th>1</th>\n",
       "      <td>20</td>\n",
       "      <td>RL</td>\n",
       "      <td>80.0</td>\n",
       "      <td>9600</td>\n",
       "      <td>Pave</td>\n",
       "      <td>NaN</td>\n",
       "      <td>Reg</td>\n",
       "      <td>Lvl</td>\n",
       "      <td>AllPub</td>\n",
       "      <td>FR2</td>\n",
       "      <td>...</td>\n",
       "      <td>NaN</td>\n",
       "      <td>NaN</td>\n",
       "      <td>0</td>\n",
       "      <td>5</td>\n",
       "      <td>2007</td>\n",
       "      <td>WD</td>\n",
       "      <td>Normal</td>\n",
       "      <td>181500</td>\n",
       "      <td>2</td>\n",
       "      <td>3</td>\n",
       "    </tr>\n",
       "    <tr>\n",
       "      <th>2</th>\n",
       "      <td>60</td>\n",
       "      <td>RL</td>\n",
       "      <td>68.0</td>\n",
       "      <td>11250</td>\n",
       "      <td>Pave</td>\n",
       "      <td>NaN</td>\n",
       "      <td>IR1</td>\n",
       "      <td>Lvl</td>\n",
       "      <td>AllPub</td>\n",
       "      <td>Inside</td>\n",
       "      <td>...</td>\n",
       "      <td>NaN</td>\n",
       "      <td>NaN</td>\n",
       "      <td>0</td>\n",
       "      <td>9</td>\n",
       "      <td>2008</td>\n",
       "      <td>WD</td>\n",
       "      <td>Normal</td>\n",
       "      <td>223500</td>\n",
       "      <td>3</td>\n",
       "      <td>3</td>\n",
       "    </tr>\n",
       "    <tr>\n",
       "      <th>3</th>\n",
       "      <td>70</td>\n",
       "      <td>RL</td>\n",
       "      <td>60.0</td>\n",
       "      <td>9550</td>\n",
       "      <td>Pave</td>\n",
       "      <td>NaN</td>\n",
       "      <td>IR1</td>\n",
       "      <td>Lvl</td>\n",
       "      <td>AllPub</td>\n",
       "      <td>Corner</td>\n",
       "      <td>...</td>\n",
       "      <td>NaN</td>\n",
       "      <td>NaN</td>\n",
       "      <td>0</td>\n",
       "      <td>2</td>\n",
       "      <td>2006</td>\n",
       "      <td>WD</td>\n",
       "      <td>Abnorml</td>\n",
       "      <td>140000</td>\n",
       "      <td>1</td>\n",
       "      <td>1</td>\n",
       "    </tr>\n",
       "    <tr>\n",
       "      <th>4</th>\n",
       "      <td>60</td>\n",
       "      <td>RL</td>\n",
       "      <td>84.0</td>\n",
       "      <td>14260</td>\n",
       "      <td>Pave</td>\n",
       "      <td>NaN</td>\n",
       "      <td>IR1</td>\n",
       "      <td>Lvl</td>\n",
       "      <td>AllPub</td>\n",
       "      <td>FR2</td>\n",
       "      <td>...</td>\n",
       "      <td>NaN</td>\n",
       "      <td>NaN</td>\n",
       "      <td>0</td>\n",
       "      <td>12</td>\n",
       "      <td>2008</td>\n",
       "      <td>WD</td>\n",
       "      <td>Normal</td>\n",
       "      <td>250000</td>\n",
       "      <td>4</td>\n",
       "      <td>4</td>\n",
       "    </tr>\n",
       "  </tbody>\n",
       "</table>\n",
       "<p>5 rows × 82 columns</p>\n",
       "</div>"
      ],
      "text/plain": [
       "   MSSubClass MSZoning  LotFrontage  LotArea Street Alley LotShape  \\\n",
       "0          60       RL         65.0     8450   Pave   NaN      Reg   \n",
       "1          20       RL         80.0     9600   Pave   NaN      Reg   \n",
       "2          60       RL         68.0    11250   Pave   NaN      IR1   \n",
       "3          70       RL         60.0     9550   Pave   NaN      IR1   \n",
       "4          60       RL         84.0    14260   Pave   NaN      IR1   \n",
       "\n",
       "  LandContour Utilities LotConfig  ... Fence MiscFeature MiscVal MoSold  \\\n",
       "0         Lvl    AllPub    Inside  ...   NaN         NaN       0      2   \n",
       "1         Lvl    AllPub       FR2  ...   NaN         NaN       0      5   \n",
       "2         Lvl    AllPub    Inside  ...   NaN         NaN       0      9   \n",
       "3         Lvl    AllPub    Corner  ...   NaN         NaN       0      2   \n",
       "4         Lvl    AllPub       FR2  ...   NaN         NaN       0     12   \n",
       "\n",
       "  YrSold SaleType  SaleCondition  SalePrice  SaleClass  SaleClass2  \n",
       "0   2008       WD         Normal     208500          3           3  \n",
       "1   2007       WD         Normal     181500          2           3  \n",
       "2   2008       WD         Normal     223500          3           3  \n",
       "3   2006       WD        Abnorml     140000          1           1  \n",
       "4   2008       WD         Normal     250000          4           4  \n",
       "\n",
       "[5 rows x 82 columns]"
      ]
     },
     "execution_count": 43,
     "metadata": {},
     "output_type": "execute_result"
    }
   ],
   "source": [
    "House.head(5)"
   ]
  },
  {
   "cell_type": "markdown",
   "metadata": {},
   "source": [
    "The function \"data_clean\" below just gather the codes appeared above. To compare these two kinds of bins in a fair manner, we have to make sure the samples used is identicial for them. Therefore, we need to regenerate them."
   ]
  },
  {
   "cell_type": "code",
   "execution_count": 44,
   "metadata": {},
   "outputs": [],
   "source": [
    "def data_clean(House):\n",
    "    data_wcat = pd.get_dummies(data)\n",
    "    replace_index = np.random.choice(len(House), size = int(len(House)/4), replace = False)\n",
    "    Houseval = House.iloc[replace_index]\n",
    "    Housetrain= House.drop(replace_index)\n",
    "    traintarget = Housetrain['SaleClass'] # same width\n",
    "    traintarget2 = Housetrain['SaleClass2'] # same quantity\n",
    "    valtarget = Houseval['SaleClass']\n",
    "    valtarget2 = Houseval['SaleClass2']\n",
    "    Housetrain = Housetrain[cats]\n",
    "    Houseval = Houseval[cats]\n",
    "    Housetrain['HouseAge']=2010 - Housetrain['YearBuilt']\n",
    "    Houseval['HouseAge'] = 2010 - Houseval['YearBuilt']\n",
    "    Housetrain.drop('YearBuilt', axis =1, inplace = True)\n",
    "    Houseval.drop('YearBuilt', axis = 1, inplace = True)\n",
    "    Housetrain['RemodAge']=2010 - Housetrain['YearRemodAdd']\n",
    "    Houseval['RemodAge'] = 2010 - Houseval['YearRemodAdd']\n",
    "    Housetrain.drop('YearRemodAdd', axis =1, inplace = True)\n",
    "    Houseval.drop('YearRemodAdd', axis = 1, inplace = True)\n",
    "    fillvals = {'LotFrontage': 0, 'MasVnrArea': 0, 'GarageYrBlt': min(Housetrain['GarageYrBlt'])}  #creates fill values\n",
    "    Housetrain.fillna(value = fillvals, inplace = True)\n",
    "    Houseval.fillna(value = fillvals, inplace = True)\n",
    "    Housetrain['GarageAge']=2010 - Housetrain['GarageYrBlt']\n",
    "    Houseval['GarageAge'] = 2010 - Houseval['GarageYrBlt']\n",
    "    Housetrain.drop('GarageYrBlt', axis =1, inplace = True)\n",
    "    Houseval.drop('GarageYrBlt', axis = 1, inplace = True)\n",
    "    Housetrain['MonthsSold']= 12*(2010 - Housetrain['YrSold'])+(12-Housetrain['MoSold'])\n",
    "    Houseval['MonthsSold']= 12*(2010 - Houseval['YrSold'])+(12-Houseval['MoSold'])\n",
    "    Housetrain.drop(['YrSold', 'MoSold'], axis = 1, inplace = True)\n",
    "    Houseval.drop(['YrSold', 'MoSold'], axis = 1, inplace = True)\n",
    "    probs = []\n",
    "    for val in np.unique(traintarget):\n",
    "        prob = sum(traintarget == val)/len(traintarget)\n",
    "        probs.append(prob)\n",
    "    probs2 = []\n",
    "    for val in np.unique(traintarget2):\n",
    "        prob = sum(traintarget2 == val)/len(traintarget2)\n",
    "        probs2.append(prob)\n",
    "    return Housetrain, traintarget, Houseval, valtarget, probs, traintarget2, valtarget2, probs2"
   ]
  },
  {
   "cell_type": "code",
   "execution_count": 45,
   "metadata": {},
   "outputs": [],
   "source": [
    "Housetrain, traintarget, Houseval, valtarget, probs, traintarget2, valtarget2, probs2 = data_clean(House)"
   ]
  },
  {
   "cell_type": "code",
   "execution_count": 46,
   "metadata": {},
   "outputs": [],
   "source": [
    "def experiment(tr, trtarget, val, valtarget, prob):  # test the effect of normalization on knn, mpp1, and mpp2\n",
    "    Val = mylearn.knn(np.array(tr), np.array(trtarget), np.array(val), 8, output=False)\n",
    "    ClassAcc, OvAcc1 = util.accuracy_score(np.array(valtarget), Val) \n",
    "    print(f'Overall Accuracy for knn is {OvAcc1}')\n",
    "\n",
    "    Val = mylearn.mpp(np.array(tr), np.array(trtarget), np.array(val), 1, prob, output=False)\n",
    "    ClassAcc, OvAcc2 = util.accuracy_score(np.array(valtarget), Val) \n",
    "    print(f'Overall Accuracy for mpp1 is {OvAcc2}')\n",
    "\n",
    "    Val = mylearn.mpp(np.array(tr), np.array(trtarget), np.array(val), 2, prob, output=False)\n",
    "    ClassAcc, OvAcc3 = util.accuracy_score(np.array(valtarget), Val) \n",
    "    print(f'Overall Accuracy for mpp2 is {OvAcc3}')"
   ]
  },
  {
   "cell_type": "code",
   "execution_count": 47,
   "metadata": {},
   "outputs": [
    {
     "name": "stdout",
     "output_type": "stream",
     "text": [
      "use bin with same width\n",
      "Overall Accuracy for knn is 0.5506849315068493\n",
      "Overall Accuracy for mpp1 is 0.3589041095890411\n",
      "Overall Accuracy for mpp2 is 0.6465753424657534\n"
     ]
    }
   ],
   "source": [
    "print('use bin with same width')\n",
    "experiment(Housetrain, traintarget, Houseval, valtarget, probs)"
   ]
  },
  {
   "cell_type": "code",
   "execution_count": 48,
   "metadata": {
    "scrolled": true
   },
   "outputs": [
    {
     "name": "stdout",
     "output_type": "stream",
     "text": [
      "use bin with same quantity\n",
      "Overall Accuracy for knn is 0.5123287671232877\n",
      "Overall Accuracy for mpp1 is 0.3232876712328767\n",
      "Overall Accuracy for mpp2 is 0.16164383561643836\n"
     ]
    }
   ],
   "source": [
    "print('use bin with same quantity')\n",
    "experiment(Housetrain, traintarget2, Houseval, valtarget2, probs2)"
   ]
  },
  {
   "cell_type": "markdown",
   "metadata": {},
   "source": [
    "From the tests above, we don't see improvement by leveling the number of samples in the bins. Besides, we think the original bins are easier to design and understand. Therefore, we maintain our original settings."
   ]
  },
  {
   "cell_type": "markdown",
   "metadata": {},
   "source": [
    "# data clean"
   ]
  },
  {
   "cell_type": "code",
   "execution_count": 3,
   "metadata": {},
   "outputs": [
    {
     "data": {
      "text/plain": [
       "(1460, 81)"
      ]
     },
     "execution_count": 3,
     "metadata": {},
     "output_type": "execute_result"
    }
   ],
   "source": [
    "data = pd.read_csv('train.csv') #pre-downloaded housing data\n",
    "House = data.copy()\n",
    "s, f = House.shape\n",
    "s, f"
   ]
  },
  {
   "cell_type": "code",
   "execution_count": 4,
   "metadata": {},
   "outputs": [
    {
     "data": {
      "text/plain": [
       "AllPub    1459\n",
       "NoSeWa       1\n",
       "Name: Utilities, dtype: int64"
      ]
     },
     "execution_count": 4,
     "metadata": {},
     "output_type": "execute_result"
    }
   ],
   "source": [
    "House = House.drop('Id', axis = 1) # drop ids\n",
    "House['Utilities'].value_counts()"
   ]
  },
  {
   "cell_type": "markdown",
   "metadata": {},
   "source": [
    "The above example shows that over 99% percent of the values under \"Utilities\" are \"AllPub\". These kind of features would negtively affect the training. Thus, we will need to drop those kind of columns."
   ]
  },
  {
   "cell_type": "code",
   "execution_count": 5,
   "metadata": {},
   "outputs": [
    {
     "name": "stdout",
     "output_type": "stream",
     "text": [
      "Street\n",
      "Utilities\n",
      "LandSlope\n",
      "Condition2\n",
      "RoofMatl\n",
      "Heating\n",
      "CentralAir\n",
      "Electrical\n",
      "LowQualFinSF\n",
      "BsmtHalfBath\n",
      "KitchenAbvGr\n",
      "Functional\n",
      "GarageCond\n",
      "PavedDrive\n",
      "3SsnPorch\n",
      "ScreenPorch\n",
      "PoolArea\n",
      "MiscVal\n"
     ]
    }
   ],
   "source": [
    "for col in House.columns:\n",
    "    if np.max(House[col].value_counts()) >= s * 0.9:\n",
    "        print(col)\n",
    "        House = House.drop(col, axis=1)"
   ]
  },
  {
   "cell_type": "code",
   "execution_count": 6,
   "metadata": {
    "scrolled": true
   },
   "outputs": [
    {
     "name": "stdout",
     "output_type": "stream",
     "text": [
      "MSZoning_C (all)\n",
      "MSZoning_FV\n",
      "MSZoning_RH\n",
      "Alley_Grvl\n",
      "Alley_Pave\n",
      "LotShape_IR2\n",
      "LotShape_IR3\n",
      "LandContour_Bnk\n",
      "LandContour_HLS\n",
      "LandContour_Low\n",
      "LotConfig_CulDSac\n",
      "LotConfig_FR2\n",
      "LotConfig_FR3\n",
      "Neighborhood_Blmngtn\n",
      "Neighborhood_Blueste\n",
      "Neighborhood_BrDale\n",
      "Neighborhood_BrkSide\n",
      "Neighborhood_ClearCr\n",
      "Neighborhood_Crawfor\n",
      "Neighborhood_Edwards\n",
      "Neighborhood_Gilbert\n",
      "Neighborhood_IDOTRR\n",
      "Neighborhood_MeadowV\n",
      "Neighborhood_Mitchel\n",
      "Neighborhood_NPkVill\n",
      "Neighborhood_NWAmes\n",
      "Neighborhood_NoRidge\n",
      "Neighborhood_NridgHt\n",
      "Neighborhood_OldTown\n",
      "Neighborhood_SWISU\n",
      "Neighborhood_Sawyer\n",
      "Neighborhood_SawyerW\n",
      "Neighborhood_Somerst\n",
      "Neighborhood_StoneBr\n",
      "Neighborhood_Timber\n",
      "Neighborhood_Veenker\n",
      "Condition1_Artery\n",
      "Condition1_Feedr\n",
      "Condition1_PosA\n",
      "Condition1_PosN\n",
      "Condition1_RRAe\n",
      "Condition1_RRAn\n",
      "Condition1_RRNe\n",
      "Condition1_RRNn\n",
      "BldgType_2fmCon\n",
      "BldgType_Duplex\n",
      "BldgType_Twnhs\n",
      "BldgType_TwnhsE\n",
      "HouseStyle_1.5Unf\n",
      "HouseStyle_2.5Fin\n",
      "HouseStyle_2.5Unf\n",
      "HouseStyle_SFoyer\n",
      "HouseStyle_SLvl\n",
      "RoofStyle_Flat\n",
      "RoofStyle_Gambrel\n",
      "RoofStyle_Mansard\n",
      "RoofStyle_Shed\n",
      "Exterior1st_AsbShng\n",
      "Exterior1st_AsphShn\n",
      "Exterior1st_BrkComm\n",
      "Exterior1st_BrkFace\n",
      "Exterior1st_CBlock\n",
      "Exterior1st_CemntBd\n",
      "Exterior1st_ImStucc\n",
      "Exterior1st_Plywood\n",
      "Exterior1st_Stone\n",
      "Exterior1st_Stucco\n",
      "Exterior1st_WdShing\n",
      "Exterior2nd_AsbShng\n",
      "Exterior2nd_AsphShn\n",
      "Exterior2nd_Brk Cmn\n",
      "Exterior2nd_BrkFace\n",
      "Exterior2nd_CBlock\n",
      "Exterior2nd_CmentBd\n",
      "Exterior2nd_ImStucc\n",
      "Exterior2nd_Other\n",
      "Exterior2nd_Plywood\n",
      "Exterior2nd_Stone\n",
      "Exterior2nd_Stucco\n",
      "Exterior2nd_Wd Shng\n",
      "MasVnrType_BrkCmn\n",
      "MasVnrType_Stone\n",
      "ExterQual_Ex\n",
      "ExterQual_Fa\n",
      "ExterCond_Ex\n",
      "ExterCond_Fa\n",
      "ExterCond_Gd\n",
      "ExterCond_Po\n",
      "Foundation_BrkTil\n",
      "Foundation_Slab\n",
      "Foundation_Stone\n",
      "Foundation_Wood\n",
      "BsmtQual_Ex\n",
      "BsmtQual_Fa\n",
      "BsmtCond_Fa\n",
      "BsmtCond_Gd\n",
      "BsmtCond_Po\n",
      "BsmtExposure_Gd\n",
      "BsmtExposure_Mn\n",
      "BsmtFinType1_LwQ\n",
      "BsmtFinType1_Rec\n",
      "BsmtFinType2_ALQ\n",
      "BsmtFinType2_BLQ\n",
      "BsmtFinType2_GLQ\n",
      "BsmtFinType2_LwQ\n",
      "BsmtFinType2_Rec\n",
      "HeatingQC_Fa\n",
      "HeatingQC_Po\n",
      "KitchenQual_Ex\n",
      "KitchenQual_Fa\n",
      "FireplaceQu_Ex\n",
      "FireplaceQu_Fa\n",
      "FireplaceQu_Po\n",
      "GarageType_2Types\n",
      "GarageType_Basment\n",
      "GarageType_BuiltIn\n",
      "GarageType_CarPort\n",
      "GarageQual_Ex\n",
      "GarageQual_Fa\n",
      "GarageQual_Gd\n",
      "GarageQual_Po\n",
      "PoolQC_Ex\n",
      "PoolQC_Fa\n",
      "PoolQC_Gd\n",
      "Fence_GdPrv\n",
      "Fence_GdWo\n",
      "Fence_MnWw\n",
      "MiscFeature_Gar2\n",
      "MiscFeature_Othr\n",
      "MiscFeature_Shed\n",
      "MiscFeature_TenC\n",
      "SaleType_COD\n",
      "SaleType_CWD\n",
      "SaleType_Con\n",
      "SaleType_ConLD\n",
      "SaleType_ConLI\n",
      "SaleType_ConLw\n",
      "SaleType_New\n",
      "SaleType_Oth\n",
      "SaleCondition_Abnorml\n",
      "SaleCondition_AdjLand\n",
      "SaleCondition_Alloca\n",
      "SaleCondition_Family\n",
      "SaleCondition_Partial\n"
     ]
    }
   ],
   "source": [
    "# tansfer nomial data into ordinal data\n",
    "House = pd.get_dummies(House)\n",
    "\n",
    "for col in House.columns:\n",
    "    if np.max(House[col].value_counts()) >= s * 0.9:\n",
    "        print(col)\n",
    "        House = House.drop(col, axis=1)"
   ]
  },
  {
   "cell_type": "code",
   "execution_count": 7,
   "metadata": {},
   "outputs": [
    {
     "data": {
      "text/html": [
       "<div>\n",
       "<style scoped>\n",
       "    .dataframe tbody tr th:only-of-type {\n",
       "        vertical-align: middle;\n",
       "    }\n",
       "\n",
       "    .dataframe tbody tr th {\n",
       "        vertical-align: top;\n",
       "    }\n",
       "\n",
       "    .dataframe thead th {\n",
       "        text-align: right;\n",
       "    }\n",
       "</style>\n",
       "<table border=\"1\" class=\"dataframe\">\n",
       "  <thead>\n",
       "    <tr style=\"text-align: right;\">\n",
       "      <th></th>\n",
       "      <th>MSSubClass</th>\n",
       "      <th>LotFrontage</th>\n",
       "      <th>LotArea</th>\n",
       "      <th>OverallQual</th>\n",
       "      <th>OverallCond</th>\n",
       "      <th>YearBuilt</th>\n",
       "      <th>YearRemodAdd</th>\n",
       "      <th>MasVnrArea</th>\n",
       "      <th>BsmtFinSF1</th>\n",
       "      <th>BsmtFinSF2</th>\n",
       "      <th>...</th>\n",
       "      <th>FireplaceQu_TA</th>\n",
       "      <th>GarageType_Attchd</th>\n",
       "      <th>GarageType_Detchd</th>\n",
       "      <th>GarageFinish_Fin</th>\n",
       "      <th>GarageFinish_RFn</th>\n",
       "      <th>GarageFinish_Unf</th>\n",
       "      <th>GarageQual_TA</th>\n",
       "      <th>Fence_MnPrv</th>\n",
       "      <th>SaleType_WD</th>\n",
       "      <th>SaleCondition_Normal</th>\n",
       "    </tr>\n",
       "  </thead>\n",
       "  <tbody>\n",
       "    <tr>\n",
       "      <th>0</th>\n",
       "      <td>60</td>\n",
       "      <td>65.0</td>\n",
       "      <td>8450</td>\n",
       "      <td>7</td>\n",
       "      <td>5</td>\n",
       "      <td>2003</td>\n",
       "      <td>2003</td>\n",
       "      <td>196.0</td>\n",
       "      <td>706</td>\n",
       "      <td>0</td>\n",
       "      <td>...</td>\n",
       "      <td>0</td>\n",
       "      <td>1</td>\n",
       "      <td>0</td>\n",
       "      <td>0</td>\n",
       "      <td>1</td>\n",
       "      <td>0</td>\n",
       "      <td>1</td>\n",
       "      <td>0</td>\n",
       "      <td>1</td>\n",
       "      <td>1</td>\n",
       "    </tr>\n",
       "    <tr>\n",
       "      <th>1</th>\n",
       "      <td>20</td>\n",
       "      <td>80.0</td>\n",
       "      <td>9600</td>\n",
       "      <td>6</td>\n",
       "      <td>8</td>\n",
       "      <td>1976</td>\n",
       "      <td>1976</td>\n",
       "      <td>0.0</td>\n",
       "      <td>978</td>\n",
       "      <td>0</td>\n",
       "      <td>...</td>\n",
       "      <td>1</td>\n",
       "      <td>1</td>\n",
       "      <td>0</td>\n",
       "      <td>0</td>\n",
       "      <td>1</td>\n",
       "      <td>0</td>\n",
       "      <td>1</td>\n",
       "      <td>0</td>\n",
       "      <td>1</td>\n",
       "      <td>1</td>\n",
       "    </tr>\n",
       "    <tr>\n",
       "      <th>2</th>\n",
       "      <td>60</td>\n",
       "      <td>68.0</td>\n",
       "      <td>11250</td>\n",
       "      <td>7</td>\n",
       "      <td>5</td>\n",
       "      <td>2001</td>\n",
       "      <td>2002</td>\n",
       "      <td>162.0</td>\n",
       "      <td>486</td>\n",
       "      <td>0</td>\n",
       "      <td>...</td>\n",
       "      <td>1</td>\n",
       "      <td>1</td>\n",
       "      <td>0</td>\n",
       "      <td>0</td>\n",
       "      <td>1</td>\n",
       "      <td>0</td>\n",
       "      <td>1</td>\n",
       "      <td>0</td>\n",
       "      <td>1</td>\n",
       "      <td>1</td>\n",
       "    </tr>\n",
       "    <tr>\n",
       "      <th>3</th>\n",
       "      <td>70</td>\n",
       "      <td>60.0</td>\n",
       "      <td>9550</td>\n",
       "      <td>7</td>\n",
       "      <td>5</td>\n",
       "      <td>1915</td>\n",
       "      <td>1970</td>\n",
       "      <td>0.0</td>\n",
       "      <td>216</td>\n",
       "      <td>0</td>\n",
       "      <td>...</td>\n",
       "      <td>0</td>\n",
       "      <td>0</td>\n",
       "      <td>1</td>\n",
       "      <td>0</td>\n",
       "      <td>0</td>\n",
       "      <td>1</td>\n",
       "      <td>1</td>\n",
       "      <td>0</td>\n",
       "      <td>1</td>\n",
       "      <td>0</td>\n",
       "    </tr>\n",
       "    <tr>\n",
       "      <th>4</th>\n",
       "      <td>60</td>\n",
       "      <td>84.0</td>\n",
       "      <td>14260</td>\n",
       "      <td>8</td>\n",
       "      <td>5</td>\n",
       "      <td>2000</td>\n",
       "      <td>2000</td>\n",
       "      <td>350.0</td>\n",
       "      <td>655</td>\n",
       "      <td>0</td>\n",
       "      <td>...</td>\n",
       "      <td>1</td>\n",
       "      <td>1</td>\n",
       "      <td>0</td>\n",
       "      <td>0</td>\n",
       "      <td>1</td>\n",
       "      <td>0</td>\n",
       "      <td>1</td>\n",
       "      <td>0</td>\n",
       "      <td>1</td>\n",
       "      <td>1</td>\n",
       "    </tr>\n",
       "  </tbody>\n",
       "</table>\n",
       "<p>5 rows × 87 columns</p>\n",
       "</div>"
      ],
      "text/plain": [
       "   MSSubClass  LotFrontage  LotArea  OverallQual  OverallCond  YearBuilt  \\\n",
       "0          60         65.0     8450            7            5       2003   \n",
       "1          20         80.0     9600            6            8       1976   \n",
       "2          60         68.0    11250            7            5       2001   \n",
       "3          70         60.0     9550            7            5       1915   \n",
       "4          60         84.0    14260            8            5       2000   \n",
       "\n",
       "   YearRemodAdd  MasVnrArea  BsmtFinSF1  BsmtFinSF2  ...  FireplaceQu_TA  \\\n",
       "0          2003       196.0         706           0  ...               0   \n",
       "1          1976         0.0         978           0  ...               1   \n",
       "2          2002       162.0         486           0  ...               1   \n",
       "3          1970         0.0         216           0  ...               0   \n",
       "4          2000       350.0         655           0  ...               1   \n",
       "\n",
       "   GarageType_Attchd  GarageType_Detchd  GarageFinish_Fin  GarageFinish_RFn  \\\n",
       "0                  1                  0                 0                 1   \n",
       "1                  1                  0                 0                 1   \n",
       "2                  1                  0                 0                 1   \n",
       "3                  0                  1                 0                 0   \n",
       "4                  1                  0                 0                 1   \n",
       "\n",
       "   GarageFinish_Unf  GarageQual_TA  Fence_MnPrv  SaleType_WD  \\\n",
       "0                 0              1            0            1   \n",
       "1                 0              1            0            1   \n",
       "2                 0              1            0            1   \n",
       "3                 1              1            0            1   \n",
       "4                 0              1            0            1   \n",
       "\n",
       "   SaleCondition_Normal  \n",
       "0                     1  \n",
       "1                     1  \n",
       "2                     1  \n",
       "3                     0  \n",
       "4                     1  \n",
       "\n",
       "[5 rows x 87 columns]"
      ]
     },
     "execution_count": 7,
     "metadata": {},
     "output_type": "execute_result"
    }
   ],
   "source": [
    "House.head()"
   ]
  },
  {
   "cell_type": "code",
   "execution_count": 295,
   "metadata": {},
   "outputs": [],
   "source": [
    "# def is_unique(s):\n",
    "#     a = s.to_numpy() # s.values (pandas<0.24)\n",
    "#     return (a[0] == a).all()\n",
    "\n",
    "# identical_list = []\n",
    "# for col in House.columns:\n",
    "#     if is_unique(House[col]):\n",
    "#         identical_list.append(col)\n",
    "#         print(col)"
   ]
  },
  {
   "cell_type": "code",
   "execution_count": 8,
   "metadata": {},
   "outputs": [],
   "source": [
    "def create_classes(dat, col = 'SalePrice'):#creates a definition that creates a class definition\n",
    "    val = dat[col]\n",
    "    if val < 100000: return 0\n",
    "    elif val <150000: return 1\n",
    "    elif val <200000: return 2\n",
    "    elif val <250000: return 3\n",
    "    else: return 4\n",
    "House['SaleClass']= House.apply(create_classes, axis = 1)\n",
    "House = House.drop('SalePrice', axis = 1) "
   ]
  },
  {
   "cell_type": "code",
   "execution_count": 9,
   "metadata": {
    "scrolled": true
   },
   "outputs": [
    {
     "data": {
      "text/html": [
       "<div>\n",
       "<style scoped>\n",
       "    .dataframe tbody tr th:only-of-type {\n",
       "        vertical-align: middle;\n",
       "    }\n",
       "\n",
       "    .dataframe tbody tr th {\n",
       "        vertical-align: top;\n",
       "    }\n",
       "\n",
       "    .dataframe thead th {\n",
       "        text-align: right;\n",
       "    }\n",
       "</style>\n",
       "<table border=\"1\" class=\"dataframe\">\n",
       "  <thead>\n",
       "    <tr style=\"text-align: right;\">\n",
       "      <th></th>\n",
       "      <th>MSSubClass</th>\n",
       "      <th>LotFrontage</th>\n",
       "      <th>LotArea</th>\n",
       "      <th>OverallQual</th>\n",
       "      <th>OverallCond</th>\n",
       "      <th>YearBuilt</th>\n",
       "      <th>YearRemodAdd</th>\n",
       "      <th>MasVnrArea</th>\n",
       "      <th>BsmtFinSF1</th>\n",
       "      <th>BsmtFinSF2</th>\n",
       "      <th>...</th>\n",
       "      <th>GarageType_Attchd</th>\n",
       "      <th>GarageType_Detchd</th>\n",
       "      <th>GarageFinish_Fin</th>\n",
       "      <th>GarageFinish_RFn</th>\n",
       "      <th>GarageFinish_Unf</th>\n",
       "      <th>GarageQual_TA</th>\n",
       "      <th>Fence_MnPrv</th>\n",
       "      <th>SaleType_WD</th>\n",
       "      <th>SaleCondition_Normal</th>\n",
       "      <th>SaleClass</th>\n",
       "    </tr>\n",
       "  </thead>\n",
       "  <tbody>\n",
       "    <tr>\n",
       "      <th>0</th>\n",
       "      <td>60</td>\n",
       "      <td>65.0</td>\n",
       "      <td>8450</td>\n",
       "      <td>7</td>\n",
       "      <td>5</td>\n",
       "      <td>2003</td>\n",
       "      <td>2003</td>\n",
       "      <td>196.0</td>\n",
       "      <td>706</td>\n",
       "      <td>0</td>\n",
       "      <td>...</td>\n",
       "      <td>1</td>\n",
       "      <td>0</td>\n",
       "      <td>0</td>\n",
       "      <td>1</td>\n",
       "      <td>0</td>\n",
       "      <td>1</td>\n",
       "      <td>0</td>\n",
       "      <td>1</td>\n",
       "      <td>1</td>\n",
       "      <td>3</td>\n",
       "    </tr>\n",
       "    <tr>\n",
       "      <th>1</th>\n",
       "      <td>20</td>\n",
       "      <td>80.0</td>\n",
       "      <td>9600</td>\n",
       "      <td>6</td>\n",
       "      <td>8</td>\n",
       "      <td>1976</td>\n",
       "      <td>1976</td>\n",
       "      <td>0.0</td>\n",
       "      <td>978</td>\n",
       "      <td>0</td>\n",
       "      <td>...</td>\n",
       "      <td>1</td>\n",
       "      <td>0</td>\n",
       "      <td>0</td>\n",
       "      <td>1</td>\n",
       "      <td>0</td>\n",
       "      <td>1</td>\n",
       "      <td>0</td>\n",
       "      <td>1</td>\n",
       "      <td>1</td>\n",
       "      <td>2</td>\n",
       "    </tr>\n",
       "    <tr>\n",
       "      <th>2</th>\n",
       "      <td>60</td>\n",
       "      <td>68.0</td>\n",
       "      <td>11250</td>\n",
       "      <td>7</td>\n",
       "      <td>5</td>\n",
       "      <td>2001</td>\n",
       "      <td>2002</td>\n",
       "      <td>162.0</td>\n",
       "      <td>486</td>\n",
       "      <td>0</td>\n",
       "      <td>...</td>\n",
       "      <td>1</td>\n",
       "      <td>0</td>\n",
       "      <td>0</td>\n",
       "      <td>1</td>\n",
       "      <td>0</td>\n",
       "      <td>1</td>\n",
       "      <td>0</td>\n",
       "      <td>1</td>\n",
       "      <td>1</td>\n",
       "      <td>3</td>\n",
       "    </tr>\n",
       "    <tr>\n",
       "      <th>3</th>\n",
       "      <td>70</td>\n",
       "      <td>60.0</td>\n",
       "      <td>9550</td>\n",
       "      <td>7</td>\n",
       "      <td>5</td>\n",
       "      <td>1915</td>\n",
       "      <td>1970</td>\n",
       "      <td>0.0</td>\n",
       "      <td>216</td>\n",
       "      <td>0</td>\n",
       "      <td>...</td>\n",
       "      <td>0</td>\n",
       "      <td>1</td>\n",
       "      <td>0</td>\n",
       "      <td>0</td>\n",
       "      <td>1</td>\n",
       "      <td>1</td>\n",
       "      <td>0</td>\n",
       "      <td>1</td>\n",
       "      <td>0</td>\n",
       "      <td>1</td>\n",
       "    </tr>\n",
       "    <tr>\n",
       "      <th>4</th>\n",
       "      <td>60</td>\n",
       "      <td>84.0</td>\n",
       "      <td>14260</td>\n",
       "      <td>8</td>\n",
       "      <td>5</td>\n",
       "      <td>2000</td>\n",
       "      <td>2000</td>\n",
       "      <td>350.0</td>\n",
       "      <td>655</td>\n",
       "      <td>0</td>\n",
       "      <td>...</td>\n",
       "      <td>1</td>\n",
       "      <td>0</td>\n",
       "      <td>0</td>\n",
       "      <td>1</td>\n",
       "      <td>0</td>\n",
       "      <td>1</td>\n",
       "      <td>0</td>\n",
       "      <td>1</td>\n",
       "      <td>1</td>\n",
       "      <td>4</td>\n",
       "    </tr>\n",
       "  </tbody>\n",
       "</table>\n",
       "<p>5 rows × 87 columns</p>\n",
       "</div>"
      ],
      "text/plain": [
       "   MSSubClass  LotFrontage  LotArea  OverallQual  OverallCond  YearBuilt  \\\n",
       "0          60         65.0     8450            7            5       2003   \n",
       "1          20         80.0     9600            6            8       1976   \n",
       "2          60         68.0    11250            7            5       2001   \n",
       "3          70         60.0     9550            7            5       1915   \n",
       "4          60         84.0    14260            8            5       2000   \n",
       "\n",
       "   YearRemodAdd  MasVnrArea  BsmtFinSF1  BsmtFinSF2  ...  GarageType_Attchd  \\\n",
       "0          2003       196.0         706           0  ...                  1   \n",
       "1          1976         0.0         978           0  ...                  1   \n",
       "2          2002       162.0         486           0  ...                  1   \n",
       "3          1970         0.0         216           0  ...                  0   \n",
       "4          2000       350.0         655           0  ...                  1   \n",
       "\n",
       "   GarageType_Detchd  GarageFinish_Fin  GarageFinish_RFn  GarageFinish_Unf  \\\n",
       "0                  0                 0                 1                 0   \n",
       "1                  0                 0                 1                 0   \n",
       "2                  0                 0                 1                 0   \n",
       "3                  1                 0                 0                 1   \n",
       "4                  0                 0                 1                 0   \n",
       "\n",
       "   GarageQual_TA  Fence_MnPrv  SaleType_WD  SaleCondition_Normal  SaleClass  \n",
       "0              1            0            1                     1          3  \n",
       "1              1            0            1                     1          2  \n",
       "2              1            0            1                     1          3  \n",
       "3              1            0            1                     0          1  \n",
       "4              1            0            1                     1          4  \n",
       "\n",
       "[5 rows x 87 columns]"
      ]
     },
     "execution_count": 9,
     "metadata": {},
     "output_type": "execute_result"
    }
   ],
   "source": [
    "House.head()"
   ]
  },
  {
   "cell_type": "code",
   "execution_count": 10,
   "metadata": {},
   "outputs": [
    {
     "data": {
      "text/plain": [
       "((1095, 87), (365, 87))"
      ]
     },
     "execution_count": 10,
     "metadata": {},
     "output_type": "execute_result"
    }
   ],
   "source": [
    "# divide into training data and validation data\n",
    "replace_index = np.random.choice(len(House), size = int(len(House)/4), replace = False)\n",
    "Housetrain= House.drop(replace_index)\n",
    "Houseval = House.iloc[replace_index]\n",
    "Housetrain.shape, Houseval.shape"
   ]
  },
  {
   "cell_type": "code",
   "execution_count": 11,
   "metadata": {},
   "outputs": [],
   "source": [
    "traintarget = Housetrain['SaleClass']\n",
    "valtarget = Houseval['SaleClass']\n",
    "Housetrain = Housetrain.iloc[:,:-1]\n",
    "Houseval = Houseval.iloc[:,:-1]"
   ]
  },
  {
   "cell_type": "code",
   "execution_count": 12,
   "metadata": {},
   "outputs": [],
   "source": [
    "Housetrain['HouseAge']=2010 - Housetrain['YearBuilt']\n",
    "Houseval['HouseAge'] = 2010 - Houseval['YearBuilt']\n",
    "Housetrain.drop('YearBuilt', axis =1, inplace = True)\n",
    "Houseval.drop('YearBuilt', axis = 1, inplace = True)\n",
    "Housetrain['RemodAge']=2010 - Housetrain['YearRemodAdd']\n",
    "Houseval['RemodAge'] = 2010 - Houseval['YearRemodAdd']\n",
    "Housetrain.drop('YearRemodAdd', axis =1, inplace = True)\n",
    "Houseval.drop('YearRemodAdd', axis = 1, inplace = True)\n",
    "fillvals = {'LotFrontage': 0, 'MasVnrArea': 0, 'GarageYrBlt': min(Housetrain['GarageYrBlt'])}  #creates fill values\n",
    "Housetrain.fillna(value = fillvals, inplace = True)\n",
    "Houseval.fillna(value = fillvals, inplace = True)\n",
    "Housetrain['GarageAge']=2010 - Housetrain['GarageYrBlt']\n",
    "Houseval['GarageAge'] = 2010 - Houseval['GarageYrBlt']\n",
    "Housetrain.drop('GarageYrBlt', axis =1, inplace = True)\n",
    "Houseval.drop('GarageYrBlt', axis = 1, inplace = True)\n",
    "Housetrain['MonthsSold']= 12*(2010 - Housetrain['YrSold'])+(12-Housetrain['MoSold'])\n",
    "Houseval['MonthsSold']= 12*(2010 - Houseval['YrSold'])+(12-Houseval['MoSold'])\n",
    "Housetrain.drop(['YrSold', 'MoSold'], axis = 1, inplace = True)\n",
    "Houseval.drop(['YrSold', 'MoSold'], axis = 1, inplace = True)"
   ]
  },
  {
   "cell_type": "code",
   "execution_count": 13,
   "metadata": {},
   "outputs": [],
   "source": [
    "probs = []\n",
    "for val in np.unique(traintarget):\n",
    "    prob = sum(traintarget == val)/len(traintarget)\n",
    "    probs.append(prob)"
   ]
  },
  {
   "cell_type": "code",
   "execution_count": 14,
   "metadata": {},
   "outputs": [
    {
     "data": {
      "text/plain": [
       "(0, 0)"
      ]
     },
     "execution_count": 14,
     "metadata": {},
     "output_type": "execute_result"
    }
   ],
   "source": [
    "Housetrain.isnull().sum().sum(), Houseval.isnull().sum().sum()"
   ]
  },
  {
   "cell_type": "markdown",
   "metadata": {},
   "source": [
    "There is no missing data now. However, the work is not over. We still need to check if there is any column with identical values. If yes, we will want to remove them"
   ]
  },
  {
   "cell_type": "markdown",
   "metadata": {},
   "source": [
    "# min-max normalization vs. mean normalization"
   ]
  },
  {
   "cell_type": "markdown",
   "metadata": {},
   "source": [
    "We compared min-max normalization and mean normalization."
   ]
  },
  {
   "cell_type": "code",
   "execution_count": 15,
   "metadata": {},
   "outputs": [],
   "source": [
    "def minmax_normal(df):\n",
    "    return (df-df.min())/(df.max()-df.min())\n",
    "\n",
    "def mean_normal(df):\n",
    "    return (df-df.mean())/df.std() "
   ]
  },
  {
   "cell_type": "code",
   "execution_count": 16,
   "metadata": {},
   "outputs": [],
   "source": [
    "def experiment(tr, target, val, normalization=None):\n",
    "    \n",
    "    if normalization == 'min-max':\n",
    "        tr= minmax_normal(tr)\n",
    "        val = minmax_normal(val)\n",
    "    if normalization == 'mean':\n",
    "        tr = mean_normal(tr)\n",
    "        val = mean_normal(val)\n",
    "    \n",
    "    # test the effect of normalization on knn, mpp1, and mpp2\n",
    "    Val = mylearn.knn(np.array(tr), np.array(target), np.array(val), 8, output=False)\n",
    "    ClassAcc, OvAcc1 = util.accuracy_score(np.array(valtarget), Val) \n",
    "    print(f'Overall Accuracy for knn is {OvAcc1}')\n",
    "    \n",
    "    Val = mylearn.mpp(np.array(tr), np.array(target), np.array(val), 1, probs, output=False)\n",
    "    ClassAcc, OvAcc2 = util.accuracy_score(np.array(valtarget), Val) \n",
    "    print(f'Overall Accuracy for mpp1 is {OvAcc2}')\n",
    "    \n",
    "    Val = mylearn.mpp(np.array(tr), np.array(target), np.array(val), 2, probs, output=False)\n",
    "    ClassAcc, OvAcc3 = util.accuracy_score(np.array(valtarget), Val) \n",
    "    print(f'Overall Accuracy for mpp2 is {OvAcc3}')\n",
    "    \n",
    "    return OvAcc1, OvAcc2, OvAcc3"
   ]
  },
  {
   "cell_type": "code",
   "execution_count": 17,
   "metadata": {},
   "outputs": [
    {
     "name": "stdout",
     "output_type": "stream",
     "text": [
      "without any normalization\n",
      "Overall Accuracy for knn is 0.5863013698630137\n",
      "Overall Accuracy for mpp1 is 0.3780821917808219\n",
      "Overall Accuracy for mpp2 is 0.726027397260274\n"
     ]
    }
   ],
   "source": [
    "print(\"without any normalization\")\n",
    "acc_knn, acc_mpp1, acc_mpp2 = experiment(Housetrain, traintarget, Houseval, normalization=None)"
   ]
  },
  {
   "cell_type": "code",
   "execution_count": 18,
   "metadata": {},
   "outputs": [
    {
     "name": "stdout",
     "output_type": "stream",
     "text": [
      "use min-max normalization\n",
      "Overall Accuracy for knn is 0.6547945205479452\n",
      "Overall Accuracy for mpp1 is 0.6\n",
      "Overall Accuracy for mpp2 is 0.40273972602739727\n"
     ]
    }
   ],
   "source": [
    "print(\"use min-max normalization\")\n",
    "acc_knn_minmax, acc_mpp1_minmax, acc_mpp2_minmax = experiment(Housetrain, traintarget, Houseval, normalization='min-max')"
   ]
  },
  {
   "cell_type": "code",
   "execution_count": 19,
   "metadata": {},
   "outputs": [
    {
     "name": "stdout",
     "output_type": "stream",
     "text": [
      "use mean normalization\n",
      "Overall Accuracy for knn is 0.684931506849315\n",
      "Overall Accuracy for mpp1 is 0.6602739726027397\n",
      "Overall Accuracy for mpp2 is 0.7068493150684931\n"
     ]
    }
   ],
   "source": [
    "print(\"use mean normalization\")\n",
    "acc_knn_mean, acc_mpp1_mean, acc_mpp2_mean = experiment(Housetrain, traintarget, Houseval, normalization='mean')"
   ]
  },
  {
   "cell_type": "code",
   "execution_count": 20,
   "metadata": {},
   "outputs": [
    {
     "data": {
      "image/png": "[encoded data removed]",
      "text/plain": [
       "<Figure size 432x288 with 1 Axes>"
      ]
     },
     "metadata": {
      "needs_background": "light"
     },
     "output_type": "display_data"
    }
   ],
   "source": [
    "# draw a bar-chart to compare min-max and mean normalization\n",
    "N = 3\n",
    "none_acc = (acc_knn, acc_mpp1, acc_mpp2)\n",
    "minmax_acc = (acc_knn_minmax, acc_mpp1_minmax, acc_mpp2_minmax)\n",
    "mean_acc = (acc_knn_mean, acc_mpp1_mean, acc_mpp2_mean)\n",
    "\n",
    "ind = np.arange(N) \n",
    "width = 0.2\n",
    "plt.bar(ind, none_acc, width, label='None')\n",
    "plt.bar(ind + width, minmax_acc, width, label='min-max normalization')\n",
    "plt.bar(ind + 2*width, mean_acc, width, label='mean normalization')\n",
    "\n",
    "plt.ylabel('overall accuracy')\n",
    "plt.xticks(ind + width, ('kNN', 'mpp1', 'mpp2'))\n",
    "plt.legend(loc='lower right')\n",
    "plt.show()"
   ]
  },
  {
   "cell_type": "markdown",
   "metadata": {},
   "source": [
    "The experiments above indicate that \"mean normalization\" performs the best. In specific, min-max improve the overall accuracy for knn and mpp1. However, the overall accuracy decreased for mpp2. This may because min-max normalization partialy eliminates the correlations between the features. Therefore, the original assumptions no longer hold. It is better to assume that the features are independent which applies for mpp1. \"Mean normalization\" improved the overall accuracies for all classifiers. Therefore, we use \"mean normalization\" for all the following tasks."
   ]
  },
  {
   "cell_type": "code",
   "execution_count": 21,
   "metadata": {},
   "outputs": [
    {
     "name": "stdout",
     "output_type": "stream",
     "text": [
      "mean nornalization is applied.\n"
     ]
    }
   ],
   "source": [
    "# use mean normalization\n",
    "nHousetrain = mean_normal(Housetrain)\n",
    "nHouseval = mean_normal(Houseval)\n",
    "print('mean nornalization is applied.')"
   ]
  },
  {
   "cell_type": "code",
   "execution_count": 22,
   "metadata": {},
   "outputs": [
    {
     "name": "stdout",
     "output_type": "stream",
     "text": [
      "mean nornalization is applied.\n"
     ]
    }
   ],
   "source": [
    "# use min-max normalization\n",
    "nHousetrain = minmax_normal(Housetrain)\n",
    "nHouseval = minmax_normal(Houseval)\n",
    "print('mean nornalization is applied.')"
   ]
  },
  {
   "cell_type": "markdown",
   "metadata": {},
   "source": [
    "# Dimension Reduction"
   ]
  },
  {
   "cell_type": "markdown",
   "metadata": {},
   "source": [
    "We use priciple component analysis (PCA) to reduce the dimension. "
   ]
  },
  {
   "cell_type": "code",
   "execution_count": 23,
   "metadata": {},
   "outputs": [],
   "source": [
    "def experiment(tr, target, val):\n",
    " \n",
    "    Val = mylearn.knn(np.array(tr), np.array(target), np.array(val), 8, output=False)\n",
    "    ClassAcc, OvAcc1 = util.accuracy_score(np.array(valtarget), Val) \n",
    "    print(f'Overall Accuracy for knn is {OvAcc1}')\n",
    "\n",
    "    Val = mylearn.mpp(np.array(tr), np.array(target), np.array(val), 1, probs, output=False)\n",
    "    ClassAcc, OvAcc2 = util.accuracy_score(np.array(valtarget), Val) \n",
    "    print(f'Overall Accuracy for mpp1 is {OvAcc2}')\n",
    "\n",
    "    Val = mylearn.mpp(np.array(tr), np.array(target), np.array(val), 2, probs, output=False)\n",
    "    ClassAcc, OvAcc3 = util.accuracy_score(np.array(valtarget), Val) \n",
    "    print(f'Overall Accuracy for mpp2 is {OvAcc3}')\n",
    "    \n",
    "    return OvAcc1, OvAcc2, OvAcc3"
   ]
  },
  {
   "cell_type": "code",
   "execution_count": 24,
   "metadata": {},
   "outputs": [
    {
     "name": "stdout",
     "output_type": "stream",
     "text": [
      "Overall Accuracy for knn is 0.6547945205479452\n",
      "Overall Accuracy for mpp1 is 0.6\n",
      "Overall Accuracy for mpp2 is 0.40273972602739727\n",
      "-If tolerance is 0.1, demensions reduced from 85 to 34.\n",
      "Overall Accuracy for knn is 0.6383561643835617\n",
      "Overall Accuracy for mpp1 is 0.6\n",
      "Overall Accuracy for mpp2 is 0.6493150684931507\n",
      "-If tolerance is 0.2, demensions reduced from 85 to 24.\n",
      "Overall Accuracy for knn is 0.6164383561643836\n",
      "Overall Accuracy for mpp1 is 0.5972602739726027\n",
      "Overall Accuracy for mpp2 is 0.6383561643835617\n",
      "-If tolerance is 0.3, demensions reduced from 85 to 17.\n",
      "Overall Accuracy for knn is 0.589041095890411\n",
      "Overall Accuracy for mpp1 is 0.6136986301369863\n",
      "Overall Accuracy for mpp2 is 0.6301369863013698\n",
      "-If tolerance is 0.4, demensions reduced from 85 to 12.\n",
      "Overall Accuracy for knn is 0.5835616438356165\n",
      "Overall Accuracy for mpp1 is 0.6164383561643836\n",
      "Overall Accuracy for mpp2 is 0.6301369863013698\n",
      "-If tolerance is 0.5, demensions reduced from 85 to 8.\n",
      "Overall Accuracy for knn is 0.5863013698630137\n",
      "Overall Accuracy for mpp1 is 0.6054794520547945\n",
      "Overall Accuracy for mpp2 is 0.6191780821917808\n",
      "-If tolerance is 0.6, demensions reduced from 85 to 5.\n",
      "Overall Accuracy for knn is 0.5780821917808219\n",
      "Overall Accuracy for mpp1 is 0.6\n",
      "Overall Accuracy for mpp2 is 0.6164383561643836\n",
      "-If tolerance is 0.7, demensions reduced from 85 to 3.\n",
      "Overall Accuracy for knn is 0.5178082191780822\n",
      "Overall Accuracy for mpp1 is 0.547945205479452\n",
      "Overall Accuracy for mpp2 is 0.5643835616438356\n"
     ]
    }
   ],
   "source": [
    "# without dimension reduction\n",
    "dims = [Houseval.shape[1]]\n",
    "knn_accs = []\n",
    "mpp1_accs = []\n",
    "mpp2_accs = []\n",
    "acc1, acc2, acc3 = experiment(nHousetrain, traintarget, nHouseval)\n",
    "knn_accs.append(acc1)\n",
    "mpp1_accs.append(acc2)\n",
    "mpp2_accs.append(acc3)\n",
    "\n",
    "# apply pca \n",
    "tolerance = np.linspace(0.1, 0.7, 7)\n",
    "for t in tolerance:\n",
    "    pmatrix = mylearn.pca(np.array(nHousetrain), t)\n",
    "    pHousetrain = np.dot(nHousetrain, pmatrix)\n",
    "    pHouseval = np.dot(nHouseval, pmatrix)\n",
    "    print(f\"-If tolerance is {t}, demensions reduced from {Housetrain.shape[1]} to {pHousetrain.shape[1]}.\")\n",
    "    dims.append(pHouseval.shape[1])\n",
    "    acc1, acc2, acc3 = experiment(pHousetrain, traintarget, pHouseval)\n",
    "    knn_accs.append(acc1)\n",
    "    mpp1_accs.append(acc2)\n",
    "    mpp2_accs.append(acc3)"
   ]
  },
  {
   "cell_type": "code",
   "execution_count": 25,
   "metadata": {},
   "outputs": [
    {
     "data": {
      "image/png": "[encoded data removed]",
      "text/plain": [
       "<Figure size 432x288 with 1 Axes>"
      ]
     },
     "metadata": {
      "needs_background": "light"
     },
     "output_type": "display_data"
    }
   ],
   "source": [
    "plt.plot(dims, knn_accs, label='knn')\n",
    "plt.plot(dims, mpp1_accs, label = 'mpp1')\n",
    "plt.plot(dims, mpp2_accs, label = 'mpp2')\n",
    "plt.legend()\n",
    "plt.xlabel('# of dimensions')\n",
    "plt.ylabel('Overall accuracy')\n",
    "plt.show()"
   ]
  },
  {
   "cell_type": "markdown",
   "metadata": {},
   "source": [
    "By increasing the tolerance from 0.1 to 0.7, the number of dimensions gradually reduced from 32 to 2. We expectd that the overall accuracy would decrease as we reduce the dimensions. However, the results show that accuracy increase. This may because that the features are noisy. It is benificial if we removed the noises. From the tests, we think keep 6 dimensions is relatively reasonable."
   ]
  },
  {
   "cell_type": "code",
   "execution_count": 26,
   "metadata": {},
   "outputs": [
    {
     "name": "stdout",
     "output_type": "stream",
     "text": [
      "-If set tolerance to 0.3, the # of demensions reduced from 85 to 17.\n"
     ]
    }
   ],
   "source": [
    "pmatrix = mylearn.pca(np.array(nHousetrain), 0.3)\n",
    "pHousetrain = np.dot(nHousetrain, pmatrix)\n",
    "pHouseval = np.dot(nHouseval, pmatrix)\n",
    "print(f\"-If set tolerance to {0.3}, the # of demensions reduced from {Housetrain.shape[1]} to {pHousetrain.shape[1]}.\")"
   ]
  },
  {
   "cell_type": "markdown",
   "metadata": {},
   "source": [
    "# MPP"
   ]
  },
  {
   "cell_type": "code",
   "execution_count": 88,
   "metadata": {},
   "outputs": [],
   "source": [
    "def evaluate(target, prediction, time, clf):\n",
    "    ClassAcc, OvAcc = util.accuracy_score(np.array(target), prediction) \n",
    "    for val in np.unique(target):\n",
    "        print(f'{clf} accuracy for Class {val} = {ClassAcc[val]}.')\n",
    "    print(f'Overall Accuracy for {clf} is {OvAcc}')\n",
    "    print(f'Training time for {clf} is {time}')"
   ]
  },
  {
   "cell_type": "code",
   "execution_count": 331,
   "metadata": {},
   "outputs": [
    {
     "name": "stdout",
     "output_type": "stream",
     "text": [
      "mpp1 accuracy for Class 0 = 0.0.\n",
      "mpp1 accuracy for Class 1 = 0.8983050847457628.\n",
      "mpp1 accuracy for Class 2 = 0.3883495145631068.\n",
      "mpp1 accuracy for Class 3 = 0.3.\n",
      "mpp1 accuracy for Class 4 = 0.6226415094339622.\n",
      "Overall Accuracy for for mpp1 is 0.5397260273972603\n",
      "Training time for mpp1 is 0.00997304916381836\n"
     ]
    }
   ],
   "source": [
    "# mpp1\n",
    "ts = time.time()\n",
    "Val = mylearn.mpp(pHousetrain, traintarget, pHouseval, 1, probs, output=False)\n",
    "timerun = time.time() - ts\n",
    "evaluate(valtarget, Val, timerun,  clf='mpp1')"
   ]
  },
  {
   "cell_type": "code",
   "execution_count": 332,
   "metadata": {},
   "outputs": [
    {
     "name": "stdout",
     "output_type": "stream",
     "text": [
      "mpp2 accuracy for Class 0 = 0.41935483870967744.\n",
      "mpp2 accuracy for Class 1 = 0.7542372881355932.\n",
      "mpp2 accuracy for Class 2 = 0.5145631067961165.\n",
      "mpp2 accuracy for Class 3 = 0.4666666666666667.\n",
      "mpp2 accuracy for Class 4 = 0.7358490566037735.\n",
      "Overall Accuracy for for mpp2 is 0.6082191780821918\n",
      "Training time for mpp2 is 0.14708399772644043\n"
     ]
    }
   ],
   "source": [
    "# mpp2\n",
    "ts = time.time()\n",
    "Val = mylearn.mpp(pHousetrain, traintarget, pHouseval, 2, probs, output=False)\n",
    "timerun = time.time() - ts\n",
    "evaluate(valtarget, Val, timerun,  clf='mpp2')"
   ]
  },
  {
   "cell_type": "markdown",
   "metadata": {},
   "source": [
    "# kNN"
   ]
  },
  {
   "cell_type": "code",
   "execution_count": 84,
   "metadata": {},
   "outputs": [
    {
     "name": "stdout",
     "output_type": "stream",
     "text": [
      "The best k is 20.\n"
     ]
    },
    {
     "data": {
      "image/png": "[encoded data removed]",
      "text/plain": [
       "<Figure size 432x288 with 1 Axes>"
      ]
     },
     "metadata": {
      "needs_background": "light"
     },
     "output_type": "display_data"
    }
   ],
   "source": [
    "# find the best k\n",
    "accs = []\n",
    "for k in range(1, 100):\n",
    "    ValKNN = mylearn.knn(np.array(pHousetrain), np.array(traintarget), np.array(pHouseval), k, output=False)\n",
    "    _, KNNOvAcc = util.accuracy_score(np.array(valtarget), ValKNN)\n",
    "    accs.append(KNNOvAcc)\n",
    "plt.plot(accs)\n",
    "print(f'The best k is {accs.index(max(accs)) + 1}.')"
   ]
  },
  {
   "cell_type": "code",
   "execution_count": 90,
   "metadata": {},
   "outputs": [
    {
     "name": "stdout",
     "output_type": "stream",
     "text": [
      "kNN: accuracy for Class 0 = 0.18518518518518517.\n",
      "kNN: accuracy for Class 1 = 0.8943089430894309.\n",
      "kNN: accuracy for Class 2 = 0.43478260869565216.\n",
      "kNN: accuracy for Class 3 = 0.4772727272727273.\n",
      "kNN: accuracy for Class 4 = 0.6428571428571429.\n",
      "Overall Accuracy for kNN: is 0.6082191780821918\n",
      "Training time for kNN: is 0.08951973915100098\n"
     ]
    }
   ],
   "source": [
    "# knn with k=20\n",
    "ts = time.time()\n",
    "Val = mylearn.knn(np.array(pHousetrain), np.array(traintarget), np.array(pHouseval), 20, output=False)\n",
    "timerun = time.time() - ts\n",
    "evaluate(valtarget, Val, timerun,  clf='kNN:')"
   ]
  },
  {
   "cell_type": "markdown",
   "metadata": {},
   "source": [
    "# BPNN"
   ]
  },
  {
   "cell_type": "code",
   "execution_count": 53,
   "metadata": {},
   "outputs": [
    {
     "name": "stdout",
     "output_type": "stream",
     "text": [
      "[[ 10  24   0   0   0]\n",
      " [  5 110  10   1   1]\n",
      " [  0  26  61  12   8]\n",
      " [  0   2  19  15   8]\n",
      " [  0   1   4   6  42]]\n",
      "              precision    recall  f1-score   support\n",
      "\n",
      "           0       0.67      0.29      0.41        34\n",
      "           1       0.67      0.87      0.76       127\n",
      "           2       0.65      0.57      0.61       107\n",
      "           3       0.44      0.34      0.38        44\n",
      "           4       0.71      0.79      0.75        53\n",
      "\n",
      "    accuracy                           0.65       365\n",
      "   macro avg       0.63      0.57      0.58       365\n",
      "weighted avg       0.64      0.65      0.64       365\n",
      "\n"
     ]
    }
   ],
   "source": [
    "# BPNN\n",
    "\n",
    "from sklearn.neural_network import MLPClassifier\n",
    "from sklearn.metrics import classification_report, confusion_matrix\n",
    "\n",
    "# Number of neurons chosen so number of weights is approximately 1095 / 10\n",
    "net = MLPClassifier(hidden_layer_sizes=(7), activation='logistic', max_iter=5000)\n",
    "net.fit(np.array(pHousetrain), np.array(traintarget))\n",
    "\n",
    "predictions = net.predict(np.array(pHouseval))\n",
    "print(confusion_matrix(valtarget, predictions))\n",
    "print(classification_report(valtarget, predictions))"
   ]
  },
  {
   "cell_type": "markdown",
   "metadata": {},
   "source": [
    "# Deciosn Tree"
   ]
  },
  {
   "cell_type": "code",
   "execution_count": 333,
   "metadata": {},
   "outputs": [
    {
     "name": "stdout",
     "output_type": "stream",
     "text": [
      "decision tree accuracy for Class 0 = 0.12903225806451613.\n",
      "decision tree accuracy for Class 1 = 0.6949152542372882.\n",
      "decision tree accuracy for Class 2 = 0.5339805825242718.\n",
      "decision tree accuracy for Class 3 = 0.48333333333333334.\n",
      "decision tree accuracy for Class 4 = 0.4339622641509434.\n",
      "Overall Accuracy for for decision tree is 0.5287671232876713\n",
      "Training time for decision tree is 0.004987955093383789\n"
     ]
    }
   ],
   "source": [
    "from sklearn.tree import DecisionTreeClassifier\n",
    "from sklearn.tree import export_text\n",
    "\n",
    "dtree_clf = DecisionTreeClassifier(random_state=2, max_depth=3)\n",
    "ts = time.time()\n",
    "dtree_clf.fit(pHousetrain, traintarget)\n",
    "timerun = time.time() - ts\n",
    "Val_tree = dtree_clf.predict(pHouseval)\n",
    "evaluate(valtarget, Val_tree, timerun,  clf='decision tree')"
   ]
  },
  {
   "cell_type": "markdown",
   "metadata": {},
   "source": [
    "# SVM"
   ]
  },
  {
   "cell_type": "code",
   "execution_count": 334,
   "metadata": {},
   "outputs": [
    {
     "name": "stdout",
     "output_type": "stream",
     "text": [
      "svm classifier accuracy for Class 0 = 0.0967741935483871.\n",
      "svm classifier accuracy for Class 1 = 0.8728813559322034.\n",
      "svm classifier accuracy for Class 2 = 0.5533980582524272.\n",
      "svm classifier accuracy for Class 3 = 0.31666666666666665.\n",
      "svm classifier accuracy for Class 4 = 0.7547169811320755.\n",
      "Overall Accuracy for for svm classifier is 0.6082191780821918\n",
      "Training time for svm classifier is 0.0329129695892334\n"
     ]
    }
   ],
   "source": [
    "from sklearn import svm\n",
    "\n",
    "svm_clf = svm.SVC()\n",
    "ts = time.time()\n",
    "svm_clf.fit(pHousetrain, traintarget)\n",
    "timerun = time.time() - ts\n",
    "Val_tree = svm_clf.predict(pHouseval)\n",
    "evaluate(valtarget, Val_tree, timerun,  clf='svm classifier')"
   ]
  },
  {
   "cell_type": "code",
   "execution_count": 335,
   "metadata": {},
   "outputs": [
    {
     "data": {
      "text/html": [
       "<div>\n",
       "<style scoped>\n",
       "    .dataframe tbody tr th:only-of-type {\n",
       "        vertical-align: middle;\n",
       "    }\n",
       "\n",
       "    .dataframe tbody tr th {\n",
       "        vertical-align: top;\n",
       "    }\n",
       "\n",
       "    .dataframe thead th {\n",
       "        text-align: right;\n",
       "    }\n",
       "</style>\n",
       "<table border=\"1\" class=\"dataframe\">\n",
       "  <thead>\n",
       "    <tr style=\"text-align: right;\">\n",
       "      <th></th>\n",
       "      <th>Id</th>\n",
       "      <th>MSSubClass</th>\n",
       "      <th>LotFrontage</th>\n",
       "      <th>LotArea</th>\n",
       "      <th>OverallQual</th>\n",
       "      <th>OverallCond</th>\n",
       "      <th>YearBuilt</th>\n",
       "      <th>YearRemodAdd</th>\n",
       "      <th>MasVnrArea</th>\n",
       "      <th>BsmtFinSF1</th>\n",
       "      <th>...</th>\n",
       "      <th>SaleType_ConLw</th>\n",
       "      <th>SaleType_New</th>\n",
       "      <th>SaleType_Oth</th>\n",
       "      <th>SaleType_WD</th>\n",
       "      <th>SaleCondition_Abnorml</th>\n",
       "      <th>SaleCondition_AdjLand</th>\n",
       "      <th>SaleCondition_Alloca</th>\n",
       "      <th>SaleCondition_Family</th>\n",
       "      <th>SaleCondition_Normal</th>\n",
       "      <th>SaleCondition_Partial</th>\n",
       "    </tr>\n",
       "  </thead>\n",
       "  <tbody>\n",
       "    <tr>\n",
       "      <th>0</th>\n",
       "      <td>1</td>\n",
       "      <td>60</td>\n",
       "      <td>65.0</td>\n",
       "      <td>8450</td>\n",
       "      <td>7</td>\n",
       "      <td>5</td>\n",
       "      <td>2003</td>\n",
       "      <td>2003</td>\n",
       "      <td>196.0</td>\n",
       "      <td>706</td>\n",
       "      <td>...</td>\n",
       "      <td>0</td>\n",
       "      <td>0</td>\n",
       "      <td>0</td>\n",
       "      <td>1</td>\n",
       "      <td>0</td>\n",
       "      <td>0</td>\n",
       "      <td>0</td>\n",
       "      <td>0</td>\n",
       "      <td>1</td>\n",
       "      <td>0</td>\n",
       "    </tr>\n",
       "    <tr>\n",
       "      <th>1</th>\n",
       "      <td>2</td>\n",
       "      <td>20</td>\n",
       "      <td>80.0</td>\n",
       "      <td>9600</td>\n",
       "      <td>6</td>\n",
       "      <td>8</td>\n",
       "      <td>1976</td>\n",
       "      <td>1976</td>\n",
       "      <td>0.0</td>\n",
       "      <td>978</td>\n",
       "      <td>...</td>\n",
       "      <td>0</td>\n",
       "      <td>0</td>\n",
       "      <td>0</td>\n",
       "      <td>1</td>\n",
       "      <td>0</td>\n",
       "      <td>0</td>\n",
       "      <td>0</td>\n",
       "      <td>0</td>\n",
       "      <td>1</td>\n",
       "      <td>0</td>\n",
       "    </tr>\n",
       "    <tr>\n",
       "      <th>2</th>\n",
       "      <td>3</td>\n",
       "      <td>60</td>\n",
       "      <td>68.0</td>\n",
       "      <td>11250</td>\n",
       "      <td>7</td>\n",
       "      <td>5</td>\n",
       "      <td>2001</td>\n",
       "      <td>2002</td>\n",
       "      <td>162.0</td>\n",
       "      <td>486</td>\n",
       "      <td>...</td>\n",
       "      <td>0</td>\n",
       "      <td>0</td>\n",
       "      <td>0</td>\n",
       "      <td>1</td>\n",
       "      <td>0</td>\n",
       "      <td>0</td>\n",
       "      <td>0</td>\n",
       "      <td>0</td>\n",
       "      <td>1</td>\n",
       "      <td>0</td>\n",
       "    </tr>\n",
       "    <tr>\n",
       "      <th>3</th>\n",
       "      <td>4</td>\n",
       "      <td>70</td>\n",
       "      <td>60.0</td>\n",
       "      <td>9550</td>\n",
       "      <td>7</td>\n",
       "      <td>5</td>\n",
       "      <td>1915</td>\n",
       "      <td>1970</td>\n",
       "      <td>0.0</td>\n",
       "      <td>216</td>\n",
       "      <td>...</td>\n",
       "      <td>0</td>\n",
       "      <td>0</td>\n",
       "      <td>0</td>\n",
       "      <td>1</td>\n",
       "      <td>1</td>\n",
       "      <td>0</td>\n",
       "      <td>0</td>\n",
       "      <td>0</td>\n",
       "      <td>0</td>\n",
       "      <td>0</td>\n",
       "    </tr>\n",
       "    <tr>\n",
       "      <th>4</th>\n",
       "      <td>5</td>\n",
       "      <td>60</td>\n",
       "      <td>84.0</td>\n",
       "      <td>14260</td>\n",
       "      <td>8</td>\n",
       "      <td>5</td>\n",
       "      <td>2000</td>\n",
       "      <td>2000</td>\n",
       "      <td>350.0</td>\n",
       "      <td>655</td>\n",
       "      <td>...</td>\n",
       "      <td>0</td>\n",
       "      <td>0</td>\n",
       "      <td>0</td>\n",
       "      <td>1</td>\n",
       "      <td>0</td>\n",
       "      <td>0</td>\n",
       "      <td>0</td>\n",
       "      <td>0</td>\n",
       "      <td>1</td>\n",
       "      <td>0</td>\n",
       "    </tr>\n",
       "    <tr>\n",
       "      <th>...</th>\n",
       "      <td>...</td>\n",
       "      <td>...</td>\n",
       "      <td>...</td>\n",
       "      <td>...</td>\n",
       "      <td>...</td>\n",
       "      <td>...</td>\n",
       "      <td>...</td>\n",
       "      <td>...</td>\n",
       "      <td>...</td>\n",
       "      <td>...</td>\n",
       "      <td>...</td>\n",
       "      <td>...</td>\n",
       "      <td>...</td>\n",
       "      <td>...</td>\n",
       "      <td>...</td>\n",
       "      <td>...</td>\n",
       "      <td>...</td>\n",
       "      <td>...</td>\n",
       "      <td>...</td>\n",
       "      <td>...</td>\n",
       "      <td>...</td>\n",
       "    </tr>\n",
       "    <tr>\n",
       "      <th>1455</th>\n",
       "      <td>1456</td>\n",
       "      <td>60</td>\n",
       "      <td>62.0</td>\n",
       "      <td>7917</td>\n",
       "      <td>6</td>\n",
       "      <td>5</td>\n",
       "      <td>1999</td>\n",
       "      <td>2000</td>\n",
       "      <td>0.0</td>\n",
       "      <td>0</td>\n",
       "      <td>...</td>\n",
       "      <td>0</td>\n",
       "      <td>0</td>\n",
       "      <td>0</td>\n",
       "      <td>1</td>\n",
       "      <td>0</td>\n",
       "      <td>0</td>\n",
       "      <td>0</td>\n",
       "      <td>0</td>\n",
       "      <td>1</td>\n",
       "      <td>0</td>\n",
       "    </tr>\n",
       "    <tr>\n",
       "      <th>1456</th>\n",
       "      <td>1457</td>\n",
       "      <td>20</td>\n",
       "      <td>85.0</td>\n",
       "      <td>13175</td>\n",
       "      <td>6</td>\n",
       "      <td>6</td>\n",
       "      <td>1978</td>\n",
       "      <td>1988</td>\n",
       "      <td>119.0</td>\n",
       "      <td>790</td>\n",
       "      <td>...</td>\n",
       "      <td>0</td>\n",
       "      <td>0</td>\n",
       "      <td>0</td>\n",
       "      <td>1</td>\n",
       "      <td>0</td>\n",
       "      <td>0</td>\n",
       "      <td>0</td>\n",
       "      <td>0</td>\n",
       "      <td>1</td>\n",
       "      <td>0</td>\n",
       "    </tr>\n",
       "    <tr>\n",
       "      <th>1457</th>\n",
       "      <td>1458</td>\n",
       "      <td>70</td>\n",
       "      <td>66.0</td>\n",
       "      <td>9042</td>\n",
       "      <td>7</td>\n",
       "      <td>9</td>\n",
       "      <td>1941</td>\n",
       "      <td>2006</td>\n",
       "      <td>0.0</td>\n",
       "      <td>275</td>\n",
       "      <td>...</td>\n",
       "      <td>0</td>\n",
       "      <td>0</td>\n",
       "      <td>0</td>\n",
       "      <td>1</td>\n",
       "      <td>0</td>\n",
       "      <td>0</td>\n",
       "      <td>0</td>\n",
       "      <td>0</td>\n",
       "      <td>1</td>\n",
       "      <td>0</td>\n",
       "    </tr>\n",
       "    <tr>\n",
       "      <th>1458</th>\n",
       "      <td>1459</td>\n",
       "      <td>20</td>\n",
       "      <td>68.0</td>\n",
       "      <td>9717</td>\n",
       "      <td>5</td>\n",
       "      <td>6</td>\n",
       "      <td>1950</td>\n",
       "      <td>1996</td>\n",
       "      <td>0.0</td>\n",
       "      <td>49</td>\n",
       "      <td>...</td>\n",
       "      <td>0</td>\n",
       "      <td>0</td>\n",
       "      <td>0</td>\n",
       "      <td>1</td>\n",
       "      <td>0</td>\n",
       "      <td>0</td>\n",
       "      <td>0</td>\n",
       "      <td>0</td>\n",
       "      <td>1</td>\n",
       "      <td>0</td>\n",
       "    </tr>\n",
       "    <tr>\n",
       "      <th>1459</th>\n",
       "      <td>1460</td>\n",
       "      <td>20</td>\n",
       "      <td>75.0</td>\n",
       "      <td>9937</td>\n",
       "      <td>5</td>\n",
       "      <td>6</td>\n",
       "      <td>1965</td>\n",
       "      <td>1965</td>\n",
       "      <td>0.0</td>\n",
       "      <td>830</td>\n",
       "      <td>...</td>\n",
       "      <td>0</td>\n",
       "      <td>0</td>\n",
       "      <td>0</td>\n",
       "      <td>1</td>\n",
       "      <td>0</td>\n",
       "      <td>0</td>\n",
       "      <td>0</td>\n",
       "      <td>0</td>\n",
       "      <td>1</td>\n",
       "      <td>0</td>\n",
       "    </tr>\n",
       "  </tbody>\n",
       "</table>\n",
       "<p>1460 rows × 290 columns</p>\n",
       "</div>"
      ],
      "text/plain": [
       "        Id  MSSubClass  LotFrontage  LotArea  OverallQual  OverallCond  \\\n",
       "0        1          60         65.0     8450            7            5   \n",
       "1        2          20         80.0     9600            6            8   \n",
       "2        3          60         68.0    11250            7            5   \n",
       "3        4          70         60.0     9550            7            5   \n",
       "4        5          60         84.0    14260            8            5   \n",
       "...    ...         ...          ...      ...          ...          ...   \n",
       "1455  1456          60         62.0     7917            6            5   \n",
       "1456  1457          20         85.0    13175            6            6   \n",
       "1457  1458          70         66.0     9042            7            9   \n",
       "1458  1459          20         68.0     9717            5            6   \n",
       "1459  1460          20         75.0     9937            5            6   \n",
       "\n",
       "      YearBuilt  YearRemodAdd  MasVnrArea  BsmtFinSF1  ...  SaleType_ConLw  \\\n",
       "0          2003          2003       196.0         706  ...               0   \n",
       "1          1976          1976         0.0         978  ...               0   \n",
       "2          2001          2002       162.0         486  ...               0   \n",
       "3          1915          1970         0.0         216  ...               0   \n",
       "4          2000          2000       350.0         655  ...               0   \n",
       "...         ...           ...         ...         ...  ...             ...   \n",
       "1455       1999          2000         0.0           0  ...               0   \n",
       "1456       1978          1988       119.0         790  ...               0   \n",
       "1457       1941          2006         0.0         275  ...               0   \n",
       "1458       1950          1996         0.0          49  ...               0   \n",
       "1459       1965          1965         0.0         830  ...               0   \n",
       "\n",
       "      SaleType_New  SaleType_Oth  SaleType_WD  SaleCondition_Abnorml  \\\n",
       "0                0             0            1                      0   \n",
       "1                0             0            1                      0   \n",
       "2                0             0            1                      0   \n",
       "3                0             0            1                      1   \n",
       "4                0             0            1                      0   \n",
       "...            ...           ...          ...                    ...   \n",
       "1455             0             0            1                      0   \n",
       "1456             0             0            1                      0   \n",
       "1457             0             0            1                      0   \n",
       "1458             0             0            1                      0   \n",
       "1459             0             0            1                      0   \n",
       "\n",
       "      SaleCondition_AdjLand  SaleCondition_Alloca  SaleCondition_Family  \\\n",
       "0                         0                     0                     0   \n",
       "1                         0                     0                     0   \n",
       "2                         0                     0                     0   \n",
       "3                         0                     0                     0   \n",
       "4                         0                     0                     0   \n",
       "...                     ...                   ...                   ...   \n",
       "1455                      0                     0                     0   \n",
       "1456                      0                     0                     0   \n",
       "1457                      0                     0                     0   \n",
       "1458                      0                     0                     0   \n",
       "1459                      0                     0                     0   \n",
       "\n",
       "      SaleCondition_Normal  SaleCondition_Partial  \n",
       "0                        1                      0  \n",
       "1                        1                      0  \n",
       "2                        1                      0  \n",
       "3                        0                      0  \n",
       "4                        1                      0  \n",
       "...                    ...                    ...  \n",
       "1455                     1                      0  \n",
       "1456                     1                      0  \n",
       "1457                     1                      0  \n",
       "1458                     1                      0  \n",
       "1459                     1                      0  \n",
       "\n",
       "[1460 rows x 290 columns]"
      ]
     },
     "execution_count": 335,
     "metadata": {},
     "output_type": "execute_result"
    }
   ],
   "source": [
    "data_wcat"
   ]
  },
  {
   "cell_type": "code",
   "execution_count": null,
   "metadata": {},
   "outputs": [],
   "source": []
  }
 ],
 "metadata": {
  "kernelspec": {
   "display_name": "Python 3",
   "language": "python",
   "name": "python3"
  },
  "language_info": {
   "codemirror_mode": {
    "name": "ipython",
    "version": 3
   },
   "file_extension": ".py",
   "mimetype": "text/x-python",
   "name": "python",
   "nbconvert_exporter": "python",
   "pygments_lexer": "ipython3",
   "version": "3.8.3"
  }
 },
 "nbformat": 4,
 "nbformat_minor": 4
}
